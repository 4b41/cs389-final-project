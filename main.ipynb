{
 "cells": [
  {
   "cell_type": "markdown",
   "source": [
    "START OF THE FINAL PROJECT"
   ],
   "metadata": {
    "collapsed": false
   },
   "id": "7f6bee415730f32a"
  },
  {
   "cell_type": "markdown",
   "source": [
    "All of the import statements"
   ],
   "metadata": {
    "collapsed": false
   },
   "id": "b7c031ef52f94cbb"
  },
  {
   "cell_type": "code",
   "outputs": [],
   "source": [
    "import pandas as pd\n",
    "import transformers\n",
    "from torch import torch_version\n",
    "from torch import nn\n",
    "import torch"
   ],
   "metadata": {
    "collapsed": false,
    "ExecuteTime": {
     "end_time": "2024-04-24T20:40:27.441733Z",
     "start_time": "2024-04-24T20:40:26.253721Z"
    }
   },
   "id": "fa67f091efafbc32",
   "execution_count": 1
  },
  {
   "cell_type": "markdown",
   "source": [
    "1)LOAD THE DATASET"
   ],
   "metadata": {
    "collapsed": false
   },
   "id": "acd75bad8ccf5b51"
  },
  {
   "cell_type": "code",
   "outputs": [],
   "source": [
    "import pandas as pd\n",
    "import string\n",
    "import re \n",
    "# from config import CONFIG\n",
    "\n",
    "\n",
    "\n",
    "class PREPROCESS:\n",
    "    def __init__(self) -> None:\n",
    "        df = pd.read_csv(\"spotify_millsongdata.csv\")\n",
    "        df = df[:9]\n",
    "        df[\"prepText\"] = df[\"text\"].apply(self.cleanString)\n",
    "        df = df[[\"artist\", \"song\", \"prepText\"]]\n",
    "        df[\"allText\"] = df[\"artist\"]+\" \"+df[\"song\"] + \" \"+df[\"prepText\"]\n",
    "        # save the file \n",
    "        df.to_csv(\"preprocessed_songs.csv\", index=False)\n",
    "    \n",
    "    def cleanString(self,sentence):\n",
    "        sentence = sentence.translate(str.maketrans(\"\",\"\", string.punctuation)).strip().lower()\n",
    "        sentence = re.sub(r\"https?://\\s+\", \"\", sentence)\n",
    "        sentence = re.sub(r\"\\b\\d+\\b\",  \"\", sentence)\n",
    "        sentence = re.sub(r\" +\",\" \",sentence).replace(\"\\n\", \" \").replace(\"\\r\", \"\").replace(\"\\r\\n\", \"\")\n",
    "        sentence = re.sub(\"\\s+\", \" \", sentence)\n",
    "        return sentence    \n",
    "\n",
    "\n"
   ],
   "metadata": {
    "collapsed": false,
    "ExecuteTime": {
     "end_time": "2024-04-24T20:40:28.371651Z",
     "start_time": "2024-04-24T20:40:28.285406Z"
    }
   },
   "id": "a3adce08b5c44c5e",
   "execution_count": 2
  },
  {
   "cell_type": "code",
   "outputs": [
    {
     "data": {
      "text/plain": "<__main__.PREPROCESS at 0x13b659660>"
     },
     "execution_count": 3,
     "metadata": {},
     "output_type": "execute_result"
    }
   ],
   "source": [
    "PREPROCESS()\n"
   ],
   "metadata": {
    "collapsed": false,
    "ExecuteTime": {
     "end_time": "2024-04-24T20:40:29.425122Z",
     "start_time": "2024-04-24T20:40:28.617389Z"
    }
   },
   "id": "791eb5383158367c",
   "execution_count": 3
  },
  {
   "cell_type": "code",
   "outputs": [],
   "source": [
    "from sentence_transformers import SentenceTransformer\n",
    "\n",
    "import os\n",
    "import numpy as np\n",
    "from tqdm import tqdm\n",
    "import faiss\n",
    "class findEmbedding:\n",
    "    def __init__(self) -> None:\n",
    "        self.df = pd.read_csv(\"preprocessed_songs.csv\")\n",
    "        self.model = SentenceTransformer('all-MiniLM-L6-v2')\n",
    "        embeddings = self.computeEmbeddings()\n",
    "        if not os.path.isdir(\"results\"):\n",
    "            os.mkdir(\"results\")\n",
    "        PATH = os.path.join(\"embedding.npy\")\n",
    "        with open( PATH, \"wb\") as fp:\n",
    "            np.save(fp, embeddings)\n",
    "\n",
    "    def computeEmbeddings(self):\n",
    "        sentences = self.df[\"allText\"].values\n",
    "        embeddings = []\n",
    "        for sentence in tqdm(sentences):\n",
    "            embedding = self.model.encode(sentence)\n",
    "            embeddings.append(embedding)\n",
    "        return np.array(embeddings)"
   ],
   "metadata": {
    "collapsed": false,
    "ExecuteTime": {
     "end_time": "2024-04-24T20:40:30.587002Z",
     "start_time": "2024-04-24T20:40:29.967951Z"
    }
   },
   "id": "6d34bcc2950e075d",
   "execution_count": 4
  },
  {
   "cell_type": "code",
   "outputs": [
    {
     "name": "stderr",
     "output_type": "stream",
     "text": [
      "100%|██████████| 9/9 [00:00<00:00, 10.15it/s]\n"
     ]
    },
    {
     "data": {
      "text/plain": "<__main__.findEmbedding at 0x15fd23bb0>"
     },
     "execution_count": 5,
     "metadata": {},
     "output_type": "execute_result"
    }
   ],
   "source": [
    "findEmbedding()"
   ],
   "metadata": {
    "collapsed": false,
    "ExecuteTime": {
     "end_time": "2024-04-24T20:40:33.887534Z",
     "start_time": "2024-04-24T20:40:31.160541Z"
    }
   },
   "id": "9f0f1d545a482278",
   "execution_count": 5
  },
  {
   "cell_type": "code",
   "outputs": [
    {
     "name": "stderr",
     "output_type": "stream",
     "text": [
      "100%|██████████| 10/10 [00:00<00:00, 63.49it/s]\n"
     ]
    },
    {
     "name": "stdout",
     "output_type": "stream",
     "text": [
      "1\n"
     ]
    },
    {
     "ename": "RuntimeError",
     "evalue": "Error in void faiss::Clustering::train_encoded(faiss::idx_t, const uint8_t *, const faiss::Index *, faiss::Index &, const float *) at /Users/runner/work/faiss-wheels/faiss-wheels/faiss/faiss/Clustering.cpp:267: Error: 'nx >= k' failed: Number of training points (10) should be at least as large as number of clusters (50)",
     "output_type": "error",
     "traceback": [
      "\u001B[0;31m---------------------------------------------------------------------------\u001B[0m",
      "\u001B[0;31mRuntimeError\u001B[0m                              Traceback (most recent call last)",
      "\u001B[0;32m/var/folders/bv/jp3prgcx78l1rxwtfc2pqmg40000gn/T/ipykernel_11261/2696209822.py\u001B[0m in \u001B[0;36m?\u001B[0;34m()\u001B[0m\n\u001B[1;32m     29\u001B[0m \u001B[0;34m\u001B[0m\u001B[0m\n\u001B[1;32m     30\u001B[0m         \u001B[0mprint\u001B[0m\u001B[0;34m(\u001B[0m\u001B[0;34m\"Query: \"\u001B[0m\u001B[0;34m,\u001B[0m \u001B[0mquery\u001B[0m\u001B[0;34m)\u001B[0m\u001B[0;34m\u001B[0m\u001B[0;34m\u001B[0m\u001B[0m\n\u001B[1;32m     31\u001B[0m         \u001B[0mprint\u001B[0m\u001B[0;34m(\u001B[0m\u001B[0martist_songs\u001B[0m\u001B[0;34m)\u001B[0m\u001B[0;34m\u001B[0m\u001B[0;34m\u001B[0m\u001B[0m\n\u001B[1;32m     32\u001B[0m \u001B[0mfindEmbedding\u001B[0m\u001B[0;34m(\u001B[0m\u001B[0;34m)\u001B[0m\u001B[0;34m\u001B[0m\u001B[0;34m\u001B[0m\u001B[0m\n\u001B[0;32m---> 33\u001B[0;31m \u001B[0mrecmmSystem\u001B[0m\u001B[0;34m(\u001B[0m\u001B[0;34m)\u001B[0m\u001B[0;34m\u001B[0m\u001B[0;34m\u001B[0m\u001B[0m\n\u001B[0m",
      "\u001B[0;32m/var/folders/bv/jp3prgcx78l1rxwtfc2pqmg40000gn/T/ipykernel_11261/2696209822.py\u001B[0m in \u001B[0;36m?\u001B[0;34m(self)\u001B[0m\n\u001B[1;32m      9\u001B[0m         \u001B[0mself\u001B[0m\u001B[0;34m.\u001B[0m\u001B[0mindex\u001B[0m \u001B[0;34m=\u001B[0m \u001B[0mfaiss\u001B[0m\u001B[0;34m.\u001B[0m\u001B[0mIndexIVFFlat\u001B[0m\u001B[0;34m(\u001B[0m\u001B[0mquantize\u001B[0m\u001B[0;34m,\u001B[0m \u001B[0mdimension\u001B[0m\u001B[0;34m,\u001B[0m \u001B[0;36m50\u001B[0m\u001B[0;34m)\u001B[0m\u001B[0;34m\u001B[0m\u001B[0;34m\u001B[0m\u001B[0m\n\u001B[1;32m     10\u001B[0m \u001B[0;34m\u001B[0m\u001B[0m\n\u001B[1;32m     11\u001B[0m         \u001B[0;32mif\u001B[0m \u001B[0;32mnot\u001B[0m \u001B[0mself\u001B[0m\u001B[0;34m.\u001B[0m\u001B[0mindex\u001B[0m\u001B[0;34m.\u001B[0m\u001B[0mis_trained\u001B[0m\u001B[0;34m:\u001B[0m\u001B[0;34m\u001B[0m\u001B[0;34m\u001B[0m\u001B[0m\n\u001B[1;32m     12\u001B[0m             \u001B[0mprint\u001B[0m\u001B[0;34m(\u001B[0m\u001B[0;36m1\u001B[0m\u001B[0;34m)\u001B[0m\u001B[0;34m\u001B[0m\u001B[0;34m\u001B[0m\u001B[0m\n\u001B[0;32m---> 13\u001B[0;31m             \u001B[0mself\u001B[0m\u001B[0;34m.\u001B[0m\u001B[0mindex\u001B[0m\u001B[0;34m.\u001B[0m\u001B[0mtrain\u001B[0m\u001B[0;34m(\u001B[0m\u001B[0membeddings\u001B[0m\u001B[0;34m)\u001B[0m\u001B[0;34m\u001B[0m\u001B[0;34m\u001B[0m\u001B[0m\n\u001B[0m\u001B[1;32m     14\u001B[0m \u001B[0;34m\u001B[0m\u001B[0m\n\u001B[1;32m     15\u001B[0m         \u001B[0;32mif\u001B[0m \u001B[0mself\u001B[0m\u001B[0;34m.\u001B[0m\u001B[0mindex\u001B[0m\u001B[0;34m.\u001B[0m\u001B[0mis_trained\u001B[0m\u001B[0;34m:\u001B[0m\u001B[0;34m\u001B[0m\u001B[0;34m\u001B[0m\u001B[0m\n\u001B[1;32m     16\u001B[0m             \u001B[0mprint\u001B[0m\u001B[0;34m(\u001B[0m\u001B[0;36m0\u001B[0m\u001B[0;34m)\u001B[0m\u001B[0;34m\u001B[0m\u001B[0;34m\u001B[0m\u001B[0m\n",
      "\u001B[0;32m~/PycharmProjects/cs389_recomendation_system/.venv/lib/python3.10/site-packages/faiss/class_wrappers.py\u001B[0m in \u001B[0;36m?\u001B[0;34m(self, x)\u001B[0m\n\u001B[1;32m    294\u001B[0m         \"\"\"\n\u001B[1;32m    295\u001B[0m         \u001B[0mn\u001B[0m\u001B[0;34m,\u001B[0m \u001B[0md\u001B[0m \u001B[0;34m=\u001B[0m \u001B[0mx\u001B[0m\u001B[0;34m.\u001B[0m\u001B[0mshape\u001B[0m\u001B[0;34m\u001B[0m\u001B[0;34m\u001B[0m\u001B[0m\n\u001B[1;32m    296\u001B[0m         \u001B[0;32massert\u001B[0m \u001B[0md\u001B[0m \u001B[0;34m==\u001B[0m \u001B[0mself\u001B[0m\u001B[0;34m.\u001B[0m\u001B[0md\u001B[0m\u001B[0;34m\u001B[0m\u001B[0;34m\u001B[0m\u001B[0m\n\u001B[1;32m    297\u001B[0m         \u001B[0mx\u001B[0m \u001B[0;34m=\u001B[0m \u001B[0mnp\u001B[0m\u001B[0;34m.\u001B[0m\u001B[0mascontiguousarray\u001B[0m\u001B[0;34m(\u001B[0m\u001B[0mx\u001B[0m\u001B[0;34m,\u001B[0m \u001B[0mdtype\u001B[0m\u001B[0;34m=\u001B[0m\u001B[0;34m'float32'\u001B[0m\u001B[0;34m)\u001B[0m\u001B[0;34m\u001B[0m\u001B[0;34m\u001B[0m\u001B[0m\n\u001B[0;32m--> 298\u001B[0;31m         \u001B[0mself\u001B[0m\u001B[0;34m.\u001B[0m\u001B[0mtrain_c\u001B[0m\u001B[0;34m(\u001B[0m\u001B[0mn\u001B[0m\u001B[0;34m,\u001B[0m \u001B[0mswig_ptr\u001B[0m\u001B[0;34m(\u001B[0m\u001B[0mx\u001B[0m\u001B[0;34m)\u001B[0m\u001B[0;34m)\u001B[0m\u001B[0;34m\u001B[0m\u001B[0;34m\u001B[0m\u001B[0m\n\u001B[0m",
      "\u001B[0;32m~/PycharmProjects/cs389_recomendation_system/.venv/lib/python3.10/site-packages/faiss/swigfaiss.py\u001B[0m in \u001B[0;36m?\u001B[0;34m(self, n, x)\u001B[0m\n\u001B[1;32m   5779\u001B[0m     \u001B[0;32mdef\u001B[0m \u001B[0mtrain\u001B[0m\u001B[0;34m(\u001B[0m\u001B[0mself\u001B[0m\u001B[0;34m,\u001B[0m \u001B[0mn\u001B[0m\u001B[0;34m,\u001B[0m \u001B[0mx\u001B[0m\u001B[0;34m)\u001B[0m\u001B[0;34m:\u001B[0m\u001B[0;34m\u001B[0m\u001B[0;34m\u001B[0m\u001B[0m\n\u001B[1;32m   5780\u001B[0m         \u001B[0;34mr\"\"\" Trains the quantizer and calls train_encoder to train sub-quantizers\"\"\"\u001B[0m\u001B[0;34m\u001B[0m\u001B[0;34m\u001B[0m\u001B[0m\n\u001B[0;32m-> 5781\u001B[0;31m         \u001B[0;32mreturn\u001B[0m \u001B[0m_swigfaiss\u001B[0m\u001B[0;34m.\u001B[0m\u001B[0mIndexIVF_train\u001B[0m\u001B[0;34m(\u001B[0m\u001B[0mself\u001B[0m\u001B[0;34m,\u001B[0m \u001B[0mn\u001B[0m\u001B[0;34m,\u001B[0m \u001B[0mx\u001B[0m\u001B[0;34m)\u001B[0m\u001B[0;34m\u001B[0m\u001B[0;34m\u001B[0m\u001B[0m\n\u001B[0m",
      "\u001B[0;31mRuntimeError\u001B[0m: Error in void faiss::Clustering::train_encoded(faiss::idx_t, const uint8_t *, const faiss::Index *, faiss::Index &, const float *) at /Users/runner/work/faiss-wheels/faiss-wheels/faiss/faiss/Clustering.cpp:267: Error: 'nx >= k' failed: Number of training points (10) should be at least as large as number of clusters (50)"
     ]
    }
   ],
   "source": [
    "class recmmSystem:\n",
    "    def __init__(self) -> None:\n",
    "        self.model = SentenceTransformer('all-MiniLM-L6-v2')\n",
    "        self.df = pd.read_csv(\"preprocessed_songs.csv\")\n",
    "        PATH = os.path.join( \"embedding.npy\")\n",
    "        embeddings = np.load(PATH)\n",
    "        dimension = embeddings.shape[1]\n",
    "        quantize = faiss.IndexFlatL2(dimension)\n",
    "        self.index = faiss.IndexIVFFlat(quantize, dimension, 50)\n",
    "\n",
    "        if not self.index.is_trained:\n",
    "            print(1)\n",
    "            self.index.train(embeddings)\n",
    "        \n",
    "        if self.index.is_trained:\n",
    "            print(0)\n",
    "            self.index.add(embeddings)\n",
    "\n",
    "        print(\"Total Number of embeddings index {}\".format(self.index.ntotal))\n",
    "    \n",
    "    def nearestNeighbour(self, query, k):\n",
    "        queryEmbeddings = self.model.encode([query])\n",
    "        D, I = self.index.search(queryEmbeddings, k)\n",
    "        artist_songs = dict()\n",
    "        allRelatable = self.df.iloc[I[0]]\n",
    "        for index, rows in allRelatable.iterrows():\n",
    "            print(rows[\"artist\"])\n",
    "            artist_songs[rows[\"artist\"]] = rows[\"song\"]\n",
    "        \n",
    "        print(\"Query: \", query)\n",
    "        print(artist_songs)\n",
    "findEmbedding()\n",
    "recmmSystem()"
   ],
   "metadata": {
    "collapsed": false,
    "ExecuteTime": {
     "end_time": "2024-04-24T20:39:30.245904Z",
     "start_time": "2024-04-24T20:39:28.823554Z"
    }
   },
   "id": "e50b4f33b4fb2040",
   "execution_count": 7
  },
  {
   "cell_type": "code",
   "outputs": [
    {
     "name": "stdout",
     "output_type": "stream",
     "text": [
      "-1\n",
      "0\n",
      "1\n",
      "ABBA\n",
      "1\n",
      "ABBA\n",
      "1\n",
      "ABBA\n",
      "1\n",
      "ABBA\n",
      "Query:  [[-0.02702218 -0.023104    0.0188639  ... -0.0647718  -0.05153453\n",
      "  -0.033183  ]\n",
      " [-0.00563251 -0.02446619  0.0174718  ... -0.05098329 -0.08312376\n",
      "  -0.02019404]\n",
      " [-0.01573327  0.01622819 -0.0430918  ...  0.03828778  0.02082782\n",
      "   0.04206   ]\n",
      " ...\n",
      " [ 0.0363101  -0.01655955 -0.0487627  ... -0.00065791  0.04081779\n",
      "   0.02449702]\n",
      " [ 0.0777607  -0.04043208 -0.03259625 ...  0.0696841   0.03718692\n",
      "   0.00944527]\n",
      " [ 0.01299908 -0.00738772  0.01187073 ... -0.0252011  -0.00344736\n",
      "   0.05499028]]\n",
      "{'ABBA': 'Crazy World'}\n"
     ]
    },
    {
     "name": "stderr",
     "output_type": "stream",
     "text": [
      "/var/folders/bv/jp3prgcx78l1rxwtfc2pqmg40000gn/T/ipykernel_11845/2543545017.py:23: UserWarning: To copy construct from a tensor, it is recommended to use sourceTensor.clone().detach() or sourceTensor.clone().detach().requires_grad_(True), rather than torch.tensor(sourceTensor).\n",
      "  user_tensors_tensor = torch.tensor(user_tensors, dtype=torch.float32)\n",
      "/Users/kamalgurbanov/PycharmProjects/cs389_recomendation_system/.venv/lib/python3.10/site-packages/torch/nn/modules/loss.py:535: UserWarning: Using a target size (torch.Size([1])) that is different to the input size (torch.Size([])). This will likely lead to incorrect results due to broadcasting. Please ensure they have the same size.\n",
      "  return F.mse_loss(input, target, reduction=self.reduction)\n"
     ]
    }
   ],
   "source": [
    "from torch import optim\n",
    "from torch.utils.data import DataLoader, TensorDataset\n",
    "\n",
    "\n",
    "class SongUserClassifier(nn.Module):\n",
    "    def __init__(self, input_size, hidden_size, output_size):\n",
    "        super(SongUserClassifier, self).__init__()\n",
    "        self.fc1 = nn.Linear(input_size, hidden_size)\n",
    "        self.relu = nn.ReLU()\n",
    "        self.fc2 = nn.Linear(hidden_size, output_size)\n",
    "\n",
    "    def forward(self, x):\n",
    "        out = self.fc1(x)\n",
    "        out = self.relu(out)\n",
    "        out = self.fc2(out)\n",
    "        return out\n",
    "num_users = 1  # Change this to the number of users you have\n",
    "user_tensors = torch.eye(num_users)  # Create one-hot encoded tensors for users\n",
    "labels = [1,1,1,1,1,0,0,0,0]\n",
    "embeddings = np.load(\"embedding.npy\")\n",
    "\n",
    "embeddings_tensor = torch.tensor(embeddings, dtype=torch.float32)\n",
    "user_tensors_tensor = torch.tensor(user_tensors, dtype=torch.float32)\n",
    "labels_tensor = torch.tensor(labels, dtype=torch.float32)\n",
    "input_tensor = torch.cat((user_tensors_tensor.repeat(len(labels), 1), embeddings_tensor), dim=1)\n",
    "input_size = input_tensor.shape[1]\n",
    "hidden_size = 64\n",
    "learning_rate = 0.001\n",
    "batch_size = 4  # Adjust the batch size as needed\n",
    "num_epochs = 100\n",
    "\n",
    "# Create DataLoader for batch processing\n",
    "dataset = TensorDataset(input_tensor, labels_tensor)\n",
    "dataloader = DataLoader(dataset, batch_size=batch_size, shuffle=True)\n",
    "model = SongUserClassifier(input_size, hidden_size,1)\n",
    "criterion = nn.MSELoss()\n",
    "optimizer = optim.Adam(model.parameters(), lr=learning_rate)\n",
    "\n",
    "# Training loop\n",
    "for epoch in range(num_epochs):\n",
    "    total_loss = 0.0\n",
    "    for inputs, labels in dataloader:\n",
    "        # Forward pass\n",
    "        outputs = model(inputs)\n",
    "        loss = criterion(outputs.squeeze(), labels)\n",
    "\n",
    "        # Backward pass and optimization\n",
    "        optimizer.zero_grad()\n",
    "        loss.backward()\n",
    "        optimizer.step()\n",
    "\n",
    "        total_loss += loss.item() * inputs.size(0)\n",
    "\n",
    "    # Print average loss for the epoch\n",
    "    epoch_loss = total_loss / len(dataset)\n",
    "    # print(f'Epoch [{epoch+1}/{num_epochs}], Loss: {epoch_loss:.4f}')\n",
    "\n",
    "# Extract learned user embeddings\n",
    "user_embeddings = model.fc1.weight.data.numpy()\n",
    "\n",
    "# Print learned user embeddings\n",
    "# print(\"Learned User Embeddings:\")\n",
    "# print(user_embeddings)\n",
    "def nearestNeighbour( queryEmbeddings, k):\n",
    "     quantize = faiss.IndexFlatL2(queryEmbeddings.shape[1])\n",
    "     index = faiss.IndexIVFFlat(quantize, queryEmbeddings.shape[1], 5)\n",
    "     D, I = index.search(queryEmbeddings, k)\n",
    "     print(-1)\n",
    "     df = pd.read_csv(\"preprocessed_songs.csv\")\n",
    "     print(0)\n",
    "     artist_songs = dict()\n",
    "     allRelatable = df.iloc[I[0]]\n",
    "     for index, rows in allRelatable.iterrows():\n",
    "         print(1)\n",
    "         print(rows[\"artist\"])\n",
    "         artist_songs[rows[\"artist\"]] = rows[\"song\"]\n",
    "    \n",
    "     print(\"Query: \", queryEmbeddings)\n",
    "     print(artist_songs)\n",
    "nearestNeighbour(user_embeddings,4)"
   ],
   "metadata": {
    "collapsed": false,
    "ExecuteTime": {
     "end_time": "2024-04-24T20:40:45.032742Z",
     "start_time": "2024-04-24T20:40:44.925249Z"
    }
   },
   "id": "a70095453b1e4fb6",
   "execution_count": 7
  },
  {
   "cell_type": "code",
   "outputs": [
    {
     "data": {
      "text/plain": "tensor([[1., 0., 0., 0., 0., 0., 0., 0., 0., 0.],\n        [0., 1., 0., 0., 0., 0., 0., 0., 0., 0.],\n        [0., 0., 1., 0., 0., 0., 0., 0., 0., 0.],\n        [0., 0., 0., 1., 0., 0., 0., 0., 0., 0.],\n        [0., 0., 0., 0., 1., 0., 0., 0., 0., 0.],\n        [0., 0., 0., 0., 0., 1., 0., 0., 0., 0.],\n        [0., 0., 0., 0., 0., 0., 1., 0., 0., 0.],\n        [0., 0., 0., 0., 0., 0., 0., 1., 0., 0.],\n        [0., 0., 0., 0., 0., 0., 0., 0., 1., 0.],\n        [0., 0., 0., 0., 0., 0., 0., 0., 0., 1.]])"
     },
     "execution_count": 6,
     "metadata": {},
     "output_type": "execute_result"
    }
   ],
   "source": [
    "\n",
    "user_tensors = torch.eye(10) \n",
    "user_tensors"
   ],
   "metadata": {
    "collapsed": false,
    "ExecuteTime": {
     "end_time": "2024-04-24T02:22:20.108288Z",
     "start_time": "2024-04-24T02:22:20.104822Z"
    }
   },
   "id": "a5d11baff66bc67c",
   "execution_count": 6
  },
  {
   "cell_type": "code",
   "outputs": [],
   "source": [],
   "metadata": {
    "collapsed": false
   },
   "id": "3fd080bc7473d032"
  }
 ],
 "metadata": {
  "kernelspec": {
   "display_name": "Python 3",
   "language": "python",
   "name": "python3"
  },
  "language_info": {
   "codemirror_mode": {
    "name": "ipython",
    "version": 2
   },
   "file_extension": ".py",
   "mimetype": "text/x-python",
   "name": "python",
   "nbconvert_exporter": "python",
   "pygments_lexer": "ipython2",
   "version": "2.7.6"
  }
 },
 "nbformat": 4,
 "nbformat_minor": 5
}
