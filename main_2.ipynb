{
 "cells": [
  {
   "cell_type": "markdown",
   "id": "7f6bee415730f32a",
   "metadata": {
    "collapsed": false
   },
   "source": [
    "START OF THE FINAL PROJECT"
   ]
  },
  {
   "cell_type": "markdown",
   "id": "b7c031ef52f94cbb",
   "metadata": {
    "collapsed": false
   },
   "source": [
    "All of the import statements"
   ]
  },
  {
   "cell_type": "code",
   "execution_count": 2,
   "id": "fa67f091efafbc32",
   "metadata": {
    "ExecuteTime": {
     "end_time": "2024-04-24T20:40:27.441733Z",
     "start_time": "2024-04-24T20:40:26.253721Z"
    },
    "collapsed": false
   },
   "outputs": [],
   "source": [
    "import pandas as pd\n",
    "import transformers\n",
    "from torch import torch_version\n",
    "from torch import nn\n",
    "import torch"
   ]
  },
  {
   "cell_type": "markdown",
   "id": "acd75bad8ccf5b51",
   "metadata": {
    "collapsed": false
   },
   "source": [
    "1)LOAD THE DATASET"
   ]
  },
  {
   "cell_type": "code",
   "execution_count": 2,
   "id": "a3adce08b5c44c5e",
   "metadata": {
    "ExecuteTime": {
     "end_time": "2024-04-24T20:40:28.371651Z",
     "start_time": "2024-04-24T20:40:28.285406Z"
    },
    "collapsed": false
   },
   "outputs": [],
   "source": [
    "import pandas as pd\n",
    "import string\n",
    "import re \n",
    "# from config import CONFIG\n",
    "\n",
    "\n",
    "\n",
    "class PREPROCESS:\n",
    "    def __init__(self) -> None:\n",
    "        df = pd.read_csv(\"output_csv_file.csv\")\n",
    "        df[\"prepText\"] = df[\"Lyrics\"].apply(self.cleanString)\n",
    "        df = df[[\"Artist\", \"Title\", \"prepText\",\"Label\"]]\n",
    "        # save the file \n",
    "        df.to_csv(\"preprocessed_songs_gram.csv\", index=False)\n",
    "    \n",
    "    def cleanString(self,sentence):\n",
    "        sentence = sentence.translate(str.maketrans(\"\",\"\", string.punctuation)).strip().lower()\n",
    "        sentence = re.sub(r\"https?://\\s+\", \"\", sentence)\n",
    "        sentence = re.sub(r\"\\b\\d+\\b\",  \"\", sentence)\n",
    "        sentence = re.sub(r\" +\",\" \",sentence).replace(\"\\n\", \" \").replace(\"\\r\", \"\").replace(\"\\r\\n\", \"\")\n",
    "        sentence = re.sub(\"\\s+\", \" \", sentence)\n",
    "        return sentence    \n",
    "\n",
    "\n"
   ]
  },
  {
   "cell_type": "code",
   "execution_count": 39,
   "id": "791eb5383158367c",
   "metadata": {
    "ExecuteTime": {
     "end_time": "2024-04-24T20:40:29.425122Z",
     "start_time": "2024-04-24T20:40:28.617389Z"
    },
    "collapsed": false
   },
   "outputs": [
    {
     "data": {
      "text/plain": [
       "<__main__.PREPROCESS at 0x3bf263d30>"
      ]
     },
     "execution_count": 39,
     "metadata": {},
     "output_type": "execute_result"
    }
   ],
   "source": [
    "PREPROCESS()\n"
   ]
  },
  {
   "cell_type": "code",
   "execution_count": 44,
   "id": "6d34bcc2950e075d",
   "metadata": {
    "ExecuteTime": {
     "end_time": "2024-04-24T20:40:30.587002Z",
     "start_time": "2024-04-24T20:40:29.967951Z"
    },
    "collapsed": false
   },
   "outputs": [],
   "source": [
    "from sentence_transformers import SentenceTransformer\n",
    "\n",
    "import os\n",
    "import numpy as np\n",
    "from tqdm import tqdm\n",
    "# import faiss\n",
    "class findEmbedding:\n",
    "    def __init__(self) -> None:\n",
    "        self.df = pd.read_csv(\"preprocessed_songs_gram.csv\")\n",
    "        self.model = SentenceTransformer('all-MiniLM-L6-v2')\n",
    "        embeddings = self.computeEmbeddings()\n",
    "        if not os.path.isdir(\"results\"):\n",
    "            os.mkdir(\"results\")\n",
    "        PATH = os.path.join(\"embedding.npy\")\n",
    "        with open( PATH, \"wb\") as fp:\n",
    "            np.save(fp, embeddings)\n",
    "\n",
    "    def computeEmbeddings(self):\n",
    "        sentences = self.df[\"prepText\"].values\n",
    "        embeddings = []\n",
    "        for sentence in tqdm(sentences):\n",
    "            embedding = self.model.encode(sentence)\n",
    "            embeddings.append(embedding)\n",
    "        return np.array(embeddings)"
   ]
  },
  {
   "cell_type": "code",
   "execution_count": 45,
   "id": "9f0f1d545a482278",
   "metadata": {
    "ExecuteTime": {
     "end_time": "2024-04-24T20:40:33.887534Z",
     "start_time": "2024-04-24T20:40:31.160541Z"
    },
    "collapsed": false
   },
   "outputs": [
    {
     "name": "stderr",
     "output_type": "stream",
     "text": [
      "/Library/Frameworks/Python.framework/Versions/3.10/lib/python3.10/site-packages/huggingface_hub/file_download.py:1132: FutureWarning: `resume_download` is deprecated and will be removed in version 1.0.0. Downloads always resume when possible. If you want to force a new download, use `force_download=True`.\n",
      "  warnings.warn(\n",
      "100%|██████████| 773/773 [00:42<00:00, 18.14it/s]\n"
     ]
    },
    {
     "data": {
      "text/plain": [
       "<__main__.findEmbedding at 0x3bf261570>"
      ]
     },
     "execution_count": 45,
     "metadata": {},
     "output_type": "execute_result"
    }
   ],
   "source": [
    "findEmbedding()"
   ]
  },
  {
   "cell_type": "code",
   "execution_count": 8,
   "id": "e50b4f33b4fb2040",
   "metadata": {
    "ExecuteTime": {
     "end_time": "2024-04-24T20:39:30.245904Z",
     "start_time": "2024-04-24T20:39:28.823554Z"
    },
    "collapsed": false
   },
   "outputs": [
    {
     "name": "stderr",
     "output_type": "stream",
     "text": [
      "/Library/Frameworks/Python.framework/Versions/3.10/lib/python3.10/site-packages/huggingface_hub/file_download.py:1132: FutureWarning: `resume_download` is deprecated and will be removed in version 1.0.0. Downloads always resume when possible. If you want to force a new download, use `force_download=True`.\n",
      "  warnings.warn(\n",
      "100%|██████████| 9/9 [00:00<00:00, 40.57it/s]\n"
     ]
    },
    {
     "ename": "NameError",
     "evalue": "name 'faiss' is not defined",
     "output_type": "error",
     "traceback": [
      "\u001b[0;31m---------------------------------------------------------------------------\u001b[0m",
      "\u001b[0;31mNameError\u001b[0m                                 Traceback (most recent call last)",
      "Cell \u001b[0;32mIn[8], line 33\u001b[0m\n\u001b[1;32m     31\u001b[0m         \u001b[38;5;28mprint\u001b[39m(artist_songs)\n\u001b[1;32m     32\u001b[0m findEmbedding()\n\u001b[0;32m---> 33\u001b[0m \u001b[43mrecmmSystem\u001b[49m\u001b[43m(\u001b[49m\u001b[43m)\u001b[49m\n",
      "Cell \u001b[0;32mIn[8], line 8\u001b[0m, in \u001b[0;36mrecmmSystem.__init__\u001b[0;34m(self)\u001b[0m\n\u001b[1;32m      6\u001b[0m embeddings \u001b[38;5;241m=\u001b[39m np\u001b[38;5;241m.\u001b[39mload(PATH)\n\u001b[1;32m      7\u001b[0m dimension \u001b[38;5;241m=\u001b[39m embeddings\u001b[38;5;241m.\u001b[39mshape[\u001b[38;5;241m1\u001b[39m]\n\u001b[0;32m----> 8\u001b[0m quantize \u001b[38;5;241m=\u001b[39m \u001b[43mfaiss\u001b[49m\u001b[38;5;241m.\u001b[39mIndexFlatL2(dimension)\n\u001b[1;32m      9\u001b[0m \u001b[38;5;28mself\u001b[39m\u001b[38;5;241m.\u001b[39mindex \u001b[38;5;241m=\u001b[39m faiss\u001b[38;5;241m.\u001b[39mIndexIVFFlat(quantize, dimension, \u001b[38;5;241m50\u001b[39m)\n\u001b[1;32m     11\u001b[0m \u001b[38;5;28;01mif\u001b[39;00m \u001b[38;5;129;01mnot\u001b[39;00m \u001b[38;5;28mself\u001b[39m\u001b[38;5;241m.\u001b[39mindex\u001b[38;5;241m.\u001b[39mis_trained:\n",
      "\u001b[0;31mNameError\u001b[0m: name 'faiss' is not defined"
     ]
    }
   ],
   "source": [
    "import faiss\n",
    "class recmmSystem:\n",
    "    def __init__(self) -> None:\n",
    "        self.model = SentenceTransformer('all-MiniLM-L6-v2')\n",
    "        self.df = pd.read_csv(\"preprocessed_songs.csv\")\n",
    "        PATH = os.path.join( \"embedding.npy\")\n",
    "        embeddings = np.load(PATH)\n",
    "        dimension = embeddings.shape[1]\n",
    "        quantize = faiss.IndexFlatL2(dimension)\n",
    "        self.index = faiss.IndexIVFFlat(quantize, dimension, 50)\n",
    "\n",
    "        if not self.index.is_trained:\n",
    "            print(1)\n",
    "            self.index.train(embeddings)\n",
    "        \n",
    "        if self.index.is_trained:\n",
    "            print(0)\n",
    "            self.index.add(embeddings)\n",
    "\n",
    "        print(\"Total Number of embeddings index {}\".format(self.index.ntotal))\n",
    "    \n",
    "    def nearestNeighbour(self, query, k):\n",
    "        queryEmbeddings = self.model.encode([query])\n",
    "        D, I = self.index.search(queryEmbeddings, k)\n",
    "        artist_songs = dict()\n",
    "        allRelatable = self.df.iloc[I[0]]\n",
    "        for index, rows in allRelatable.iterrows():\n",
    "            print(rows[\"artist\"])\n",
    "            artist_songs[rows[\"artist\"]] = rows[\"song\"]\n",
    "        \n",
    "        print(\"Query: \", query)\n",
    "        print(artist_songs)\n",
    "findEmbedding()\n",
    "recmmSystem()"
   ]
  },
  {
   "cell_type": "code",
   "execution_count": 1,
   "id": "3fd080bc7473d032",
   "metadata": {
    "collapsed": false
   },
   "outputs": [
    {
     "ename": "TabError",
     "evalue": "inconsistent use of tabs and spaces in indentation (catalog.py, line 327)",
     "output_type": "error",
     "traceback": [
      "Traceback \u001b[0;36m(most recent call last)\u001b[0m:\n",
      "\u001b[0m  File \u001b[1;32m/Library/Frameworks/Python.framework/Versions/3.10/lib/python3.10/site-packages/IPython/core/interactiveshell.py:3442\u001b[0m in \u001b[1;35mrun_code\u001b[0m\n    exec(code_obj, self.user_global_ns, self.user_ns)\u001b[0m\n",
      "\u001b[0;36m  Cell \u001b[0;32mIn[1], line 1\u001b[0;36m\n\u001b[0;31m    from pyechonest import catalog\u001b[0;36m\n",
      "\u001b[0;36m  File \u001b[0;32m/Library/Frameworks/Python.framework/Versions/3.10/lib/python3.10/site-packages/pyechonest/catalog.py:327\u001b[0;36m\u001b[0m\n\u001b[0;31m    if since:\u001b[0m\n\u001b[0m             ^\u001b[0m\n\u001b[0;31mTabError\u001b[0m\u001b[0;31m:\u001b[0m inconsistent use of tabs and spaces in indentation\n"
     ]
    }
   ],
   "source": [
    "from pyechonest import catalog\n",
    "cat = catalog.Catalog('CACNYVZ1332EB0BA9D')\n",
    "cat.read()"
   ]
  },
  {
   "cell_type": "code",
   "execution_count": 41,
   "id": "5e5ac65c",
   "metadata": {},
   "outputs": [],
   "source": [
    "import torch\n",
    "import torch.nn as nn\n",
    "from torch import optim\n",
    "from torch.utils.data import DataLoader, TensorDataset\n",
    "from torchvision import transforms\n",
    "\n",
    "class fs_model(nn.Module):\n",
    "    def __init__(self, input_dim, hidden_dim, output_dim):\n",
    "        super(fs_model, self).__init__()\n",
    "        self.relu = nn.ReLU()  \n",
    "        self.sigmoid = nn.Sigmoid();\n",
    "        self.fc1 = nn.Linear(input_dim, hidden_dim) \n",
    "        self.fc2 = nn.Linear(hidden_dim, hidden_dim)\n",
    "        self.fc3 = nn.Linear(hidden_dim, output_dim) \n",
    "\n",
    "    def forward(self, x):\n",
    "        x = self.fc1(x)\n",
    "        x = self.fc2(x)\n",
    "        x = self.relu(x)\n",
    "        x = self.fc3(x)\n",
    "        x = self.sigmoid(x)\n",
    "        x = torch.round(x)\n",
    "        return x\n"
   ]
  },
  {
   "cell_type": "code",
   "execution_count": 48,
   "id": "fb4073ed",
   "metadata": {},
   "outputs": [
    {
     "name": "stderr",
     "output_type": "stream",
     "text": [
      "/var/folders/_3/hpp2kxf54pndqxk7bcfbzl6w0000gn/T/ipykernel_79308/1667388861.py:25: UserWarning: To copy construct from a tensor, it is recommended to use sourceTensor.clone().detach() or sourceTensor.clone().detach().requires_grad_(True), rather than torch.tensor(sourceTensor).\n",
      "  user_tensors_tensor = torch.tensor(user_tensors, dtype=torch.float32)\n",
      "[I 2024-05-07 20:06:19,954] A new study created in memory with name: no-name-7c819b8a-d69b-4b15-8018-012b9b257e1d\n",
      "/var/folders/_3/hpp2kxf54pndqxk7bcfbzl6w0000gn/T/ipykernel_79308/1667388861.py:56: FutureWarning: suggest_loguniform has been deprecated in v3.0.0. This feature will be removed in v6.0.0. See https://github.com/optuna/optuna/releases/tag/v3.0.0. Use suggest_float(..., log=True) instead.\n",
      "  lr = trial.suggest_loguniform('lr', 1e-4, 1e-1)\n",
      "/Library/Frameworks/Python.framework/Versions/3.10/lib/python3.10/site-packages/torch/nn/modules/loss.py:535: UserWarning: Using a target size (torch.Size([128])) that is different to the input size (torch.Size([128, 1])). This will likely lead to incorrect results due to broadcasting. Please ensure they have the same size.\n",
      "  return F.mse_loss(input, target, reduction=self.reduction)\n",
      "/Library/Frameworks/Python.framework/Versions/3.10/lib/python3.10/site-packages/torch/nn/modules/loss.py:535: UserWarning: Using a target size (torch.Size([83])) that is different to the input size (torch.Size([83, 1])). This will likely lead to incorrect results due to broadcasting. Please ensure they have the same size.\n",
      "  return F.mse_loss(input, target, reduction=self.reduction)\n",
      "[I 2024-05-07 20:06:20,245] Trial 0 finished with value: 60.0 and parameters: {'hidden_dim': 200, 'lr': 0.0006833869623057697, 'batch_size': 128}. Best is trial 0 with value: 60.0.\n",
      "/Library/Frameworks/Python.framework/Versions/3.10/lib/python3.10/site-packages/torch/nn/modules/loss.py:535: UserWarning: Using a target size (torch.Size([32])) that is different to the input size (torch.Size([32, 1])). This will likely lead to incorrect results due to broadcasting. Please ensure they have the same size.\n",
      "  return F.mse_loss(input, target, reduction=self.reduction)\n",
      "/Library/Frameworks/Python.framework/Versions/3.10/lib/python3.10/site-packages/torch/nn/modules/loss.py:535: UserWarning: Using a target size (torch.Size([19])) that is different to the input size (torch.Size([19, 1])). This will likely lead to incorrect results due to broadcasting. Please ensure they have the same size.\n",
      "  return F.mse_loss(input, target, reduction=self.reduction)\n",
      "[I 2024-05-07 20:06:20,674] Trial 1 finished with value: 60.0 and parameters: {'hidden_dim': 115, 'lr': 0.06294742348749766, 'batch_size': 32}. Best is trial 0 with value: 60.0.\n",
      "[I 2024-05-07 20:06:20,861] Trial 2 finished with value: 67.5 and parameters: {'hidden_dim': 119, 'lr': 0.029035776601501802, 'batch_size': 128}. Best is trial 2 with value: 67.5.\n",
      "[I 2024-05-07 20:06:21,070] Trial 3 finished with value: 57.5 and parameters: {'hidden_dim': 131, 'lr': 0.003225755090509231, 'batch_size': 128}. Best is trial 2 with value: 67.5.\n",
      "/Library/Frameworks/Python.framework/Versions/3.10/lib/python3.10/site-packages/torch/nn/modules/loss.py:535: UserWarning: Using a target size (torch.Size([64])) that is different to the input size (torch.Size([64, 1])). This will likely lead to incorrect results due to broadcasting. Please ensure they have the same size.\n",
      "  return F.mse_loss(input, target, reduction=self.reduction)\n",
      "[I 2024-05-07 20:06:21,357] Trial 4 finished with value: 47.5 and parameters: {'hidden_dim': 132, 'lr': 0.00024597423636718357, 'batch_size': 64}. Best is trial 2 with value: 67.5.\n",
      "[I 2024-05-07 20:06:21,832] Trial 5 finished with value: 65.0 and parameters: {'hidden_dim': 133, 'lr': 0.03946647815498668, 'batch_size': 32}. Best is trial 2 with value: 67.5.\n",
      "[I 2024-05-07 20:06:22,042] Trial 6 finished with value: 55.0 and parameters: {'hidden_dim': 155, 'lr': 0.023473194048641063, 'batch_size': 128}. Best is trial 2 with value: 67.5.\n",
      "[I 2024-05-07 20:06:22,542] Trial 7 finished with value: 50.0 and parameters: {'hidden_dim': 170, 'lr': 0.0004895719571519621, 'batch_size': 32}. Best is trial 2 with value: 67.5.\n",
      "[I 2024-05-07 20:06:22,975] Trial 8 finished with value: 60.0 and parameters: {'hidden_dim': 99, 'lr': 0.026411954784696674, 'batch_size': 32}. Best is trial 2 with value: 67.5.\n",
      "[I 2024-05-07 20:06:23,318] Trial 9 finished with value: 45.0 and parameters: {'hidden_dim': 192, 'lr': 0.00211268055222282, 'batch_size': 64}. Best is trial 2 with value: 67.5.\n",
      "[I 2024-05-07 20:06:23,476] Trial 10 finished with value: 55.0 and parameters: {'hidden_dim': 54, 'lr': 0.007267851553562498, 'batch_size': 128}. Best is trial 2 with value: 67.5.\n",
      "[I 2024-05-07 20:06:23,834] Trial 11 finished with value: 50.0 and parameters: {'hidden_dim': 79, 'lr': 0.09403945854289092, 'batch_size': 32}. Best is trial 2 with value: 67.5.\n",
      "[I 2024-05-07 20:06:24,047] Trial 12 finished with value: 47.5 and parameters: {'hidden_dim': 153, 'lr': 0.014460331835903846, 'batch_size': 128}. Best is trial 2 with value: 67.5.\n",
      "[I 2024-05-07 20:06:24,464] Trial 13 finished with value: 55.0 and parameters: {'hidden_dim': 92, 'lr': 0.03576191443534056, 'batch_size': 32}. Best is trial 2 with value: 67.5.\n",
      "[I 2024-05-07 20:06:24,737] Trial 14 finished with value: 62.5 and parameters: {'hidden_dim': 113, 'lr': 0.007925089386659536, 'batch_size': 64}. Best is trial 2 with value: 67.5.\n",
      "[I 2024-05-07 20:06:24,947] Trial 15 finished with value: 50.0 and parameters: {'hidden_dim': 148, 'lr': 0.008994117037536626, 'batch_size': 128}. Best is trial 2 with value: 67.5.\n",
      "[I 2024-05-07 20:06:25,300] Trial 16 finished with value: 47.5 and parameters: {'hidden_dim': 66, 'lr': 0.0024615765398086843, 'batch_size': 32}. Best is trial 2 with value: 67.5.\n",
      "[I 2024-05-07 20:06:25,756] Trial 17 finished with value: 55.0 and parameters: {'hidden_dim': 178, 'lr': 0.05002265217260205, 'batch_size': 32}. Best is trial 2 with value: 67.5.\n",
      "[I 2024-05-07 20:06:25,941] Trial 18 finished with value: 55.0 and parameters: {'hidden_dim': 100, 'lr': 0.00010104050779020666, 'batch_size': 128}. Best is trial 2 with value: 67.5.\n",
      "[I 2024-05-07 20:06:26,258] Trial 19 finished with value: 55.0 and parameters: {'hidden_dim': 121, 'lr': 0.01630356330666457, 'batch_size': 64}. Best is trial 2 with value: 67.5.\n",
      "[I 2024-05-07 20:06:26,459] Trial 20 finished with value: 75.0 and parameters: {'hidden_dim': 138, 'lr': 0.09355880281299565, 'batch_size': 128}. Best is trial 20 with value: 75.0.\n",
      "[I 2024-05-07 20:06:26,664] Trial 21 finished with value: 57.5 and parameters: {'hidden_dim': 142, 'lr': 0.09538286173663954, 'batch_size': 128}. Best is trial 20 with value: 75.0.\n",
      "[I 2024-05-07 20:06:26,882] Trial 22 finished with value: 55.0 and parameters: {'hidden_dim': 136, 'lr': 0.045726047073226375, 'batch_size': 128}. Best is trial 20 with value: 75.0.\n",
      "[I 2024-05-07 20:06:27,100] Trial 23 finished with value: 55.0 and parameters: {'hidden_dim': 167, 'lr': 0.09953569946081708, 'batch_size': 128}. Best is trial 20 with value: 75.0.\n",
      "[I 2024-05-07 20:06:27,282] Trial 24 finished with value: 45.0 and parameters: {'hidden_dim': 112, 'lr': 0.01664852380417588, 'batch_size': 128}. Best is trial 20 with value: 75.0.\n",
      "[I 2024-05-07 20:06:27,704] Trial 25 finished with value: 57.5 and parameters: {'hidden_dim': 123, 'lr': 0.004618365557270113, 'batch_size': 32}. Best is trial 20 with value: 75.0.\n",
      "[I 2024-05-07 20:06:27,913] Trial 26 finished with value: 40.0 and parameters: {'hidden_dim': 161, 'lr': 0.02715824535474006, 'batch_size': 128}. Best is trial 20 with value: 75.0.\n",
      "[I 2024-05-07 20:06:28,109] Trial 27 finished with value: 50.0 and parameters: {'hidden_dim': 142, 'lr': 0.05191640116870639, 'batch_size': 128}. Best is trial 20 with value: 75.0.\n",
      "[I 2024-05-07 20:06:28,379] Trial 28 finished with value: 57.5 and parameters: {'hidden_dim': 103, 'lr': 0.012242674158162522, 'batch_size': 64}. Best is trial 20 with value: 75.0.\n",
      "[I 2024-05-07 20:06:28,787] Trial 29 finished with value: 57.5 and parameters: {'hidden_dim': 91, 'lr': 0.0009974942732536014, 'batch_size': 32}. Best is trial 20 with value: 75.0.\n",
      "[I 2024-05-07 20:06:29,013] Trial 30 finished with value: 40.0 and parameters: {'hidden_dim': 184, 'lr': 0.06398341000422982, 'batch_size': 128}. Best is trial 20 with value: 75.0.\n",
      "[I 2024-05-07 20:06:29,290] Trial 31 finished with value: 57.5 and parameters: {'hidden_dim': 116, 'lr': 0.007345592185987642, 'batch_size': 64}. Best is trial 20 with value: 75.0.\n",
      "[I 2024-05-07 20:06:29,558] Trial 32 finished with value: 52.5 and parameters: {'hidden_dim': 109, 'lr': 0.03599229940342675, 'batch_size': 64}. Best is trial 20 with value: 75.0.\n",
      "[I 2024-05-07 20:06:29,827] Trial 33 finished with value: 45.0 and parameters: {'hidden_dim': 124, 'lr': 0.0049425551738504275, 'batch_size': 64}. Best is trial 20 with value: 75.0.\n",
      "[I 2024-05-07 20:06:30,121] Trial 34 finished with value: 62.5 and parameters: {'hidden_dim': 133, 'lr': 0.023451579567464804, 'batch_size': 64}. Best is trial 20 with value: 75.0.\n",
      "[I 2024-05-07 20:06:30,413] Trial 35 finished with value: 65.0 and parameters: {'hidden_dim': 141, 'lr': 0.010687593480883646, 'batch_size': 64}. Best is trial 20 with value: 75.0.\n",
      "[I 2024-05-07 20:06:30,850] Trial 36 finished with value: 60.0 and parameters: {'hidden_dim': 144, 'lr': 0.06645562745157607, 'batch_size': 32}. Best is trial 20 with value: 75.0.\n",
      "[I 2024-05-07 20:06:31,046] Trial 37 finished with value: 55.0 and parameters: {'hidden_dim': 133, 'lr': 0.034841147402149594, 'batch_size': 128}. Best is trial 20 with value: 75.0.\n",
      "[I 2024-05-07 20:06:31,362] Trial 38 finished with value: 57.5 and parameters: {'hidden_dim': 153, 'lr': 0.012479275362388667, 'batch_size': 64}. Best is trial 20 with value: 75.0.\n",
      "[I 2024-05-07 20:06:31,812] Trial 39 finished with value: 52.5 and parameters: {'hidden_dim': 138, 'lr': 0.022093570048151146, 'batch_size': 32}. Best is trial 20 with value: 75.0.\n",
      "[I 2024-05-07 20:06:32,000] Trial 40 finished with value: 65.0 and parameters: {'hidden_dim': 127, 'lr': 0.0011329350968689643, 'batch_size': 128}. Best is trial 20 with value: 75.0.\n",
      "[I 2024-05-07 20:06:32,182] Trial 41 finished with value: 45.0 and parameters: {'hidden_dim': 123, 'lr': 0.0011692502121778638, 'batch_size': 128}. Best is trial 20 with value: 75.0.\n",
      "[I 2024-05-07 20:06:32,379] Trial 42 finished with value: 67.5 and parameters: {'hidden_dim': 127, 'lr': 0.0013189385417385542, 'batch_size': 128}. Best is trial 20 with value: 75.0.\n",
      "[I 2024-05-07 20:06:32,619] Trial 43 finished with value: 60.0 and parameters: {'hidden_dim': 161, 'lr': 0.0033746580472159863, 'batch_size': 128}. Best is trial 20 with value: 75.0.\n",
      "[I 2024-05-07 20:06:32,818] Trial 44 finished with value: 62.5 and parameters: {'hidden_dim': 149, 'lr': 0.002023599965162981, 'batch_size': 128}. Best is trial 20 with value: 75.0.\n",
      "[I 2024-05-07 20:06:33,018] Trial 45 finished with value: 55.0 and parameters: {'hidden_dim': 129, 'lr': 0.00047185883494244317, 'batch_size': 128}. Best is trial 20 with value: 75.0.\n",
      "[I 2024-05-07 20:06:33,428] Trial 46 finished with value: 47.5 and parameters: {'hidden_dim': 116, 'lr': 0.07424346126798617, 'batch_size': 32}. Best is trial 20 with value: 75.0.\n",
      "[I 2024-05-07 20:06:33,624] Trial 47 finished with value: 45.0 and parameters: {'hidden_dim': 108, 'lr': 0.001627328638157856, 'batch_size': 128}. Best is trial 20 with value: 75.0.\n",
      "[I 2024-05-07 20:06:33,908] Trial 48 finished with value: 65.0 and parameters: {'hidden_dim': 91, 'lr': 0.00041752673181522397, 'batch_size': 64}. Best is trial 20 with value: 75.0.\n",
      "[I 2024-05-07 20:06:34,354] Trial 49 finished with value: 57.5 and parameters: {'hidden_dim': 159, 'lr': 0.0007242116951736758, 'batch_size': 32}. Best is trial 20 with value: 75.0.\n",
      "[I 2024-05-07 20:06:34,553] Trial 50 finished with value: 52.5 and parameters: {'hidden_dim': 148, 'lr': 0.039193257253867984, 'batch_size': 128}. Best is trial 20 with value: 75.0.\n",
      "[I 2024-05-07 20:06:34,743] Trial 51 finished with value: 60.0 and parameters: {'hidden_dim': 128, 'lr': 0.0014611255154689585, 'batch_size': 128}. Best is trial 20 with value: 75.0.\n",
      "[I 2024-05-07 20:06:34,939] Trial 52 finished with value: 52.5 and parameters: {'hidden_dim': 137, 'lr': 0.0007252541795184588, 'batch_size': 128}. Best is trial 20 with value: 75.0.\n",
      "[I 2024-05-07 20:06:35,133] Trial 53 finished with value: 55.0 and parameters: {'hidden_dim': 118, 'lr': 0.003311459462638112, 'batch_size': 128}. Best is trial 20 with value: 75.0.\n",
      "[I 2024-05-07 20:06:35,336] Trial 54 finished with value: 45.0 and parameters: {'hidden_dim': 129, 'lr': 0.009732807756122269, 'batch_size': 128}. Best is trial 20 with value: 75.0.\n",
      "[I 2024-05-07 20:06:35,541] Trial 55 finished with value: 57.5 and parameters: {'hidden_dim': 139, 'lr': 0.00031795768932621547, 'batch_size': 128}. Best is trial 20 with value: 75.0.\n",
      "[I 2024-05-07 20:06:35,753] Trial 56 finished with value: 55.0 and parameters: {'hidden_dim': 170, 'lr': 0.0001704729807833993, 'batch_size': 128}. Best is trial 20 with value: 75.0.\n",
      "[I 2024-05-07 20:06:36,214] Trial 57 finished with value: 42.5 and parameters: {'hidden_dim': 146, 'lr': 0.0009432755796465423, 'batch_size': 32}. Best is trial 20 with value: 75.0.\n",
      "[I 2024-05-07 20:06:36,497] Trial 58 finished with value: 57.5 and parameters: {'hidden_dim': 103, 'lr': 0.01930677878134871, 'batch_size': 64}. Best is trial 20 with value: 75.0.\n",
      "[I 2024-05-07 20:06:36,714] Trial 59 finished with value: 47.5 and parameters: {'hidden_dim': 127, 'lr': 0.08105821564909281, 'batch_size': 128}. Best is trial 20 with value: 75.0.\n",
      "[I 2024-05-07 20:06:36,918] Trial 60 finished with value: 52.5 and parameters: {'hidden_dim': 156, 'lr': 0.04823566354809726, 'batch_size': 128}. Best is trial 20 with value: 75.0.\n",
      "[I 2024-05-07 20:06:37,168] Trial 61 finished with value: 65.0 and parameters: {'hidden_dim': 76, 'lr': 0.00016142048661300467, 'batch_size': 64}. Best is trial 20 with value: 75.0.\n",
      "[I 2024-05-07 20:06:37,433] Trial 62 finished with value: 42.5 and parameters: {'hidden_dim': 90, 'lr': 0.00036165620870034246, 'batch_size': 64}. Best is trial 20 with value: 75.0.\n",
      "[I 2024-05-07 20:06:37,670] Trial 63 finished with value: 50.0 and parameters: {'hidden_dim': 84, 'lr': 0.002525694518574079, 'batch_size': 64}. Best is trial 20 with value: 75.0.\n",
      "[I 2024-05-07 20:06:37,897] Trial 64 finished with value: 40.0 and parameters: {'hidden_dim': 58, 'lr': 0.0006561449500627555, 'batch_size': 64}. Best is trial 20 with value: 75.0.\n",
      "[I 2024-05-07 20:06:38,182] Trial 65 finished with value: 55.0 and parameters: {'hidden_dim': 120, 'lr': 0.0005174191768234238, 'batch_size': 64}. Best is trial 20 with value: 75.0.\n",
      "[I 2024-05-07 20:06:38,548] Trial 66 finished with value: 40.0 and parameters: {'hidden_dim': 71, 'lr': 0.028620312601448556, 'batch_size': 32}. Best is trial 20 with value: 75.0.\n",
      "[I 2024-05-07 20:06:38,858] Trial 67 finished with value: 50.0 and parameters: {'hidden_dim': 97, 'lr': 0.005618929164788507, 'batch_size': 64}. Best is trial 20 with value: 75.0.\n",
      "[I 2024-05-07 20:06:39,067] Trial 68 finished with value: 57.5 and parameters: {'hidden_dim': 132, 'lr': 0.0013890752803052862, 'batch_size': 128}. Best is trial 20 with value: 75.0.\n",
      "[I 2024-05-07 20:06:39,348] Trial 69 finished with value: 57.5 and parameters: {'hidden_dim': 112, 'lr': 0.0611136504896406, 'batch_size': 64}. Best is trial 20 with value: 75.0.\n",
      "[I 2024-05-07 20:06:39,572] Trial 70 finished with value: 55.0 and parameters: {'hidden_dim': 140, 'lr': 0.004010716878205463, 'batch_size': 128}. Best is trial 20 with value: 75.0.\n",
      "[I 2024-05-07 20:06:39,831] Trial 71 finished with value: 47.5 and parameters: {'hidden_dim': 81, 'lr': 0.00021646948360060846, 'batch_size': 64}. Best is trial 20 with value: 75.0.\n",
      "[I 2024-05-07 20:06:40,085] Trial 72 finished with value: 55.0 and parameters: {'hidden_dim': 75, 'lr': 0.00020971779558933034, 'batch_size': 64}. Best is trial 20 with value: 75.0.\n",
      "[I 2024-05-07 20:06:40,337] Trial 73 finished with value: 50.0 and parameters: {'hidden_dim': 64, 'lr': 0.00011221981126974838, 'batch_size': 64}. Best is trial 20 with value: 75.0.\n",
      "[I 2024-05-07 20:06:40,643] Trial 74 finished with value: 50.0 and parameters: {'hidden_dim': 133, 'lr': 0.00033034186298392786, 'batch_size': 64}. Best is trial 20 with value: 75.0.\n",
      "[I 2024-05-07 20:06:40,870] Trial 75 finished with value: 55.0 and parameters: {'hidden_dim': 51, 'lr': 0.00043846346423464085, 'batch_size': 64}. Best is trial 20 with value: 75.0.\n",
      "[I 2024-05-07 20:06:41,284] Trial 76 finished with value: 57.5 and parameters: {'hidden_dim': 87, 'lr': 0.00015137568882318283, 'batch_size': 32}. Best is trial 20 with value: 75.0.\n",
      "[I 2024-05-07 20:06:41,479] Trial 77 finished with value: 65.0 and parameters: {'hidden_dim': 124, 'lr': 0.030326253171379994, 'batch_size': 128}. Best is trial 20 with value: 75.0.\n",
      "[I 2024-05-07 20:06:41,785] Trial 78 finished with value: 62.5 and parameters: {'hidden_dim': 151, 'lr': 0.005977568535202364, 'batch_size': 64}. Best is trial 20 with value: 75.0.\n",
      "[I 2024-05-07 20:06:42,241] Trial 79 finished with value: 70.0 and parameters: {'hidden_dim': 143, 'lr': 0.0019079846700666859, 'batch_size': 32}. Best is trial 20 with value: 75.0.\n",
      "[I 2024-05-07 20:06:42,679] Trial 80 finished with value: 57.5 and parameters: {'hidden_dim': 141, 'lr': 0.0008965593739701873, 'batch_size': 32}. Best is trial 20 with value: 75.0.\n",
      "[I 2024-05-07 20:06:43,120] Trial 81 finished with value: 60.0 and parameters: {'hidden_dim': 136, 'lr': 0.0024778198197541075, 'batch_size': 32}. Best is trial 20 with value: 75.0.\n",
      "[I 2024-05-07 20:06:43,553] Trial 82 finished with value: 42.5 and parameters: {'hidden_dim': 145, 'lr': 0.0012716495088906119, 'batch_size': 32}. Best is trial 20 with value: 75.0.\n",
      "[I 2024-05-07 20:06:43,976] Trial 83 finished with value: 50.0 and parameters: {'hidden_dim': 96, 'lr': 0.0018180118180674803, 'batch_size': 32}. Best is trial 20 with value: 75.0.\n",
      "[I 2024-05-07 20:06:44,359] Trial 84 finished with value: 60.0 and parameters: {'hidden_dim': 74, 'lr': 0.0011045661141041699, 'batch_size': 32}. Best is trial 20 with value: 75.0.\n",
      "[I 2024-05-07 20:06:44,555] Trial 85 finished with value: 57.5 and parameters: {'hidden_dim': 107, 'lr': 0.013971190651975161, 'batch_size': 128}. Best is trial 20 with value: 75.0.\n",
      "[I 2024-05-07 20:06:44,765] Trial 86 finished with value: 60.0 and parameters: {'hidden_dim': 135, 'lr': 0.0028050384699587275, 'batch_size': 128}. Best is trial 20 with value: 75.0.\n",
      "[I 2024-05-07 20:06:45,039] Trial 87 finished with value: 57.5 and parameters: {'hidden_dim': 126, 'lr': 0.002036143313710234, 'batch_size': 64}. Best is trial 20 with value: 75.0.\n",
      "[I 2024-05-07 20:06:45,379] Trial 88 finished with value: 50.0 and parameters: {'hidden_dim': 65, 'lr': 0.0422782105447905, 'batch_size': 32}. Best is trial 20 with value: 75.0.\n",
      "[I 2024-05-07 20:06:45,601] Trial 89 finished with value: 45.0 and parameters: {'hidden_dim': 165, 'lr': 0.0005711769237728606, 'batch_size': 128}. Best is trial 20 with value: 75.0.\n",
      "[I 2024-05-07 20:06:45,807] Trial 90 finished with value: 55.0 and parameters: {'hidden_dim': 156, 'lr': 0.010538672452259402, 'batch_size': 128}. Best is trial 20 with value: 75.0.\n",
      "[I 2024-05-07 20:06:45,993] Trial 91 finished with value: 52.5 and parameters: {'hidden_dim': 121, 'lr': 0.030734490098331537, 'batch_size': 128}. Best is trial 20 with value: 75.0.\n",
      "[I 2024-05-07 20:06:46,193] Trial 92 finished with value: 52.5 and parameters: {'hidden_dim': 122, 'lr': 0.01885584443682522, 'batch_size': 128}. Best is trial 20 with value: 75.0.\n",
      "[I 2024-05-07 20:06:46,393] Trial 93 finished with value: 75.0 and parameters: {'hidden_dim': 130, 'lr': 0.00025622401796070995, 'batch_size': 128}. Best is trial 20 with value: 75.0.\n",
      "[I 2024-05-07 20:06:46,595] Trial 94 finished with value: 50.0 and parameters: {'hidden_dim': 144, 'lr': 0.0002727567640800324, 'batch_size': 128}. Best is trial 20 with value: 75.0.\n",
      "[I 2024-05-07 20:06:46,788] Trial 95 finished with value: 45.0 and parameters: {'hidden_dim': 130, 'lr': 0.00014569689157088085, 'batch_size': 128}. Best is trial 20 with value: 75.0.\n",
      "[I 2024-05-07 20:06:46,974] Trial 96 finished with value: 45.0 and parameters: {'hidden_dim': 114, 'lr': 0.00024062994588725848, 'batch_size': 128}. Best is trial 20 with value: 75.0.\n",
      "[I 2024-05-07 20:06:47,254] Trial 97 finished with value: 50.0 and parameters: {'hidden_dim': 118, 'lr': 0.00038866123158978825, 'batch_size': 64}. Best is trial 20 with value: 75.0.\n",
      "[I 2024-05-07 20:06:47,726] Trial 98 finished with value: 52.5 and parameters: {'hidden_dim': 135, 'lr': 0.0008553689268052712, 'batch_size': 32}. Best is trial 20 with value: 75.0.\n",
      "[I 2024-05-07 20:06:47,929] Trial 99 finished with value: 47.5 and parameters: {'hidden_dim': 149, 'lr': 0.05840850455459199, 'batch_size': 128}. Best is trial 20 with value: 75.0.\n"
     ]
    },
    {
     "name": "stdout",
     "output_type": "stream",
     "text": [
      "0.0\n",
      "Best parameters: {'hidden_dim': 138, 'lr': 0.09355880281299565, 'batch_size': 128}\n",
      "Best validation accuracy: 75.0\n"
     ]
    }
   ],
   "source": [
    "import optuna\n",
    "import numpy as np\n",
    "\n",
    "import json\n",
    "\n",
    "with open('user_4_songs.json', 'r') as file:\n",
    "    data_dict = json.load(file)\n",
    "\n",
    "num_users = 1  # Change this to the number of users you have\n",
    "user_tensors = torch.eye(num_users)  # Create one-hot encoded tensors for users\n",
    "dat = pd.read_csv('preprocessed_songs_gram.csv')\n",
    "dat = dat['Label']\n",
    "labels = dat[(dat == '0') | (dat == '1')]\n",
    "labels = [int(x) for x in labels]\n",
    "labels = labels[:251]\n",
    "\n",
    "zeros_array = np.zeros(251, dtype=int)\n",
    "embeddings = np.load(\"embedding_lyrics_total.npy\")\n",
    "\n",
    "\n",
    "\n",
    "loss_func  = nn.MSELoss()\n",
    "\n",
    "embeddings_tensor = torch.tensor(embeddings, dtype=torch.float32)\n",
    "user_tensors_tensor = torch.tensor(user_tensors, dtype=torch.float32)\n",
    "labels_tensor = torch.tensor(labels, dtype=torch.float32)\n",
    "input_tensor = torch.cat((user_tensors_tensor.repeat(len(labels), 1), embeddings_tensor), dim=1)\n",
    "input_size = input_tensor.shape[1]\n",
    "\n",
    "def training(model, train_loader, test_loader, loss, optimizer, num_epochs):\n",
    "    for epoch in range(num_epochs):\n",
    "        model.train()\n",
    "        for batch_idx, (data, target) in enumerate(train_loader):\n",
    "            optimizer.zero_grad()\n",
    "            output = model(data)\n",
    "            loss = loss_func(output, target)\n",
    "            loss.backward()\n",
    "            optimizer.step()\n",
    "            # print('Epoch {}, Batch {}, Loss {}'.format(epoch, batch_idx, loss.item()))\n",
    "\n",
    "        model.eval()\n",
    "        correct = 0\n",
    "        total = 0\n",
    "        with torch.no_grad():\n",
    "            for data, target in test_loader:\n",
    "                output = model(data)\n",
    "                _, predicted = torch.max(output.data, 1)\n",
    "                total += target.size(0)\n",
    "                correct += (predicted == target).sum().item()\n",
    "\n",
    "        # print('Accuracy on test set: {}%'.format(100*correct/total))\n",
    "model = None\n",
    "def objective(trial):\n",
    "    global model\n",
    "    hidden_dim = trial.suggest_int('hidden_dim', 50, 200)\n",
    "    lr = trial.suggest_loguniform('lr', 1e-4, 1e-1)\n",
    "    batch_size = trial.suggest_categorical('batch_size', [32, 64, 128])\n",
    "    num_epochs = 100\n",
    "\n",
    "    model = fs_model(input_size,hidden_dim,1)\n",
    "    loss_func  = nn.MSELoss()\n",
    "    optimizer = optim.Adam(model.parameters(), lr=lr)\n",
    "\n",
    "    dataset = TensorDataset(input_tensor, labels_tensor)\n",
    "    data_train, data_test = torch.utils.data.random_split(dataset, [211, 40])\n",
    "    train_loader = DataLoader(data_train, batch_size=batch_size, shuffle=True)\n",
    "    test_loader = DataLoader(data_test, batch_size=batch_size, shuffle=False)\n",
    "\n",
    "    training(model, train_loader, test_loader, loss_func, optimizer, num_epochs)\n",
    "\n",
    "    model.eval()\n",
    "    correct = 0\n",
    "    total = 0\n",
    "    with torch.no_grad():\n",
    "        for data, target in test_loader:\n",
    "            output = model(data)\n",
    "            # print(data, 'data')\n",
    "            # print(output, 'output')\n",
    "            _, predicted = torch.max(output.data, 1)\n",
    "            total += target.size(0)\n",
    "            correct += (predicted == target).sum().item()\n",
    "\n",
    "    accuracy = 100 * correct / total\n",
    "    return accuracy\n",
    "    \n",
    "    \n",
    "\n",
    "study = optuna.create_study(direction='maximize')\n",
    "\n",
    "\n",
    "study.optimize(objective, n_trials=100)\n",
    "\n",
    "\n",
    "best_params = study.best_params\n",
    "best_accuracy = study.best_value\n",
    "\n",
    "embeddings = embeddings[0]\n",
    "embeddings = np.append(embeddings, 1)\n",
    "embeddings_tensor = torch.tensor(embeddings, dtype=torch.float32)\n",
    "# input_tensor = torch.cat((user_tensors_tensor.repeat(len(labels), 1), embeddings_tensor), dim=1)\n",
    "\n",
    "# dataset = TensorDataset(input_tensor, labels_tensor)\n",
    "\n",
    "# train_loader = DataLoader(dataset, batch_size=32, shuffle=True)\n",
    "\n",
    "\n",
    "\n",
    "# embeddings_tensor = torch.tensor(embeddings, dtype=torch.float32)\n",
    "# user_tensors_tensor = torch.tensor(user_tensors, dtype=torch.float32)\n",
    "# labels_tensor = torch.tensor(labels, dtype=torch.float32)\n",
    "# input_tensor = torch.cat((user_tensors_tensor.repeat(len(labels), 1), embeddings_tensor), dim=1)\n",
    "\n",
    "# with torch.no_grad():\n",
    "#     for data, target in train_loader:\n",
    "#         model(data)\n",
    "final_output = model(embeddings_tensor).item()\n",
    "\n",
    "\n",
    "print(final_output)\n",
    "\n",
    "    \n",
    "\n",
    "print(\"Best parameters:\", best_params)\n",
    "print(\"Best validation accuracy:\", best_accuracy)\n"
   ]
  },
  {
   "cell_type": "code",
   "execution_count": 10,
   "id": "a1f18038",
   "metadata": {},
   "outputs": [
    {
     "name": "stderr",
     "output_type": "stream",
     "text": [
      "Exception in Tkinter callback\n",
      "Traceback (most recent call last):\n",
      "  File \"/Library/Frameworks/Python.framework/Versions/3.10/lib/python3.10/tkinter/__init__.py\", line 1921, in __call__\n",
      "    return self.func(*args)\n",
      "  File \"/var/folders/_3/hpp2kxf54pndqxk7bcfbzl6w0000gn/T/ipykernel_69786/3149611433.py\", line 9, in song_list\n",
      "    if shown:\n",
      "UnboundLocalError: local variable 'shown' referenced before assignment\n",
      "Exception in Tkinter callback\n",
      "Traceback (most recent call last):\n",
      "  File \"/Library/Frameworks/Python.framework/Versions/3.10/lib/python3.10/tkinter/__init__.py\", line 1921, in __call__\n",
      "    return self.func(*args)\n",
      "  File \"/var/folders/_3/hpp2kxf54pndqxk7bcfbzl6w0000gn/T/ipykernel_69786/3149611433.py\", line 9, in song_list\n",
      "    if shown:\n",
      "UnboundLocalError: local variable 'shown' referenced before assignment\n",
      "Exception in Tkinter callback\n",
      "Traceback (most recent call last):\n",
      "  File \"/Library/Frameworks/Python.framework/Versions/3.10/lib/python3.10/tkinter/__init__.py\", line 1921, in __call__\n",
      "    return self.func(*args)\n",
      "  File \"/var/folders/_3/hpp2kxf54pndqxk7bcfbzl6w0000gn/T/ipykernel_69786/3149611433.py\", line 9, in song_list\n",
      "    if shown:\n",
      "UnboundLocalError: local variable 'shown' referenced before assignment\n",
      "Exception in Tkinter callback\n",
      "Traceback (most recent call last):\n",
      "  File \"/Library/Frameworks/Python.framework/Versions/3.10/lib/python3.10/tkinter/__init__.py\", line 1921, in __call__\n",
      "    return self.func(*args)\n",
      "  File \"/var/folders/_3/hpp2kxf54pndqxk7bcfbzl6w0000gn/T/ipykernel_69786/3149611433.py\", line 9, in song_list\n",
      "    if shown:\n",
      "UnboundLocalError: local variable 'shown' referenced before assignment\n",
      "Exception in Tkinter callback\n",
      "Traceback (most recent call last):\n",
      "  File \"/Library/Frameworks/Python.framework/Versions/3.10/lib/python3.10/tkinter/__init__.py\", line 1921, in __call__\n",
      "    return self.func(*args)\n",
      "  File \"/var/folders/_3/hpp2kxf54pndqxk7bcfbzl6w0000gn/T/ipykernel_69786/3149611433.py\", line 9, in song_list\n",
      "    if shown:\n",
      "UnboundLocalError: local variable 'shown' referenced before assignment\n",
      "Exception in Tkinter callback\n",
      "Traceback (most recent call last):\n",
      "  File \"/Library/Frameworks/Python.framework/Versions/3.10/lib/python3.10/tkinter/__init__.py\", line 1921, in __call__\n",
      "    return self.func(*args)\n",
      "  File \"/var/folders/_3/hpp2kxf54pndqxk7bcfbzl6w0000gn/T/ipykernel_69786/3149611433.py\", line 9, in song_list\n",
      "    if shown:\n",
      "UnboundLocalError: local variable 'shown' referenced before assignment\n",
      "Exception in Tkinter callback\n",
      "Traceback (most recent call last):\n",
      "  File \"/Library/Frameworks/Python.framework/Versions/3.10/lib/python3.10/tkinter/__init__.py\", line 1921, in __call__\n",
      "    return self.func(*args)\n",
      "  File \"/var/folders/_3/hpp2kxf54pndqxk7bcfbzl6w0000gn/T/ipykernel_69786/3149611433.py\", line 9, in song_list\n",
      "    if shown:\n",
      "UnboundLocalError: local variable 'shown' referenced before assignment\n",
      "Exception in Tkinter callback\n",
      "Traceback (most recent call last):\n",
      "  File \"/Library/Frameworks/Python.framework/Versions/3.10/lib/python3.10/tkinter/__init__.py\", line 1921, in __call__\n",
      "    return self.func(*args)\n",
      "  File \"/var/folders/_3/hpp2kxf54pndqxk7bcfbzl6w0000gn/T/ipykernel_69786/3149611433.py\", line 9, in song_list\n",
      "    if shown:\n",
      "UnboundLocalError: local variable 'shown' referenced before assignment\n"
     ]
    },
    {
     "ename": "",
     "evalue": "",
     "output_type": "error",
     "traceback": [
      "\u001b[1;31mThe Kernel crashed while executing code in the current cell or a previous cell. \n",
      "\u001b[1;31mPlease review the code in the cell(s) to identify a possible cause of the failure. \n",
      "\u001b[1;31mClick <a href='https://aka.ms/vscodeJupyterKernelCrash'>here</a> for more info. \n",
      "\u001b[1;31mView Jupyter <a href='command:jupyter.viewOutput'>log</a> for further details."
     ]
    }
   ],
   "source": [
    "import tkinter as tk\n",
    "\n",
    "\n",
    "song_arr = []\n",
    "\n",
    "shown = False\n",
    "\n",
    "def song_list():\n",
    "    if shown:\n",
    "        shown = True\n",
    "    else:\n",
    "        shown = False\n",
    "    \n",
    "    if shown:\n",
    "        song_list.config(text=f\"{song_arr}!\")\n",
    "    else:\n",
    "        song_list.config(text=\"\")\n",
    "\n",
    "\n",
    "def submit_song():\n",
    "    song = entry.get()\n",
    "    if song in song_arr:\n",
    "        songs_2.config(text=f\"{song} is already in list!\")\n",
    "    else:\n",
    "        song_arr.append(song)\n",
    "    if song:\n",
    "        song_list.config(text=f\"{song_arr}!\")\n",
    "    else:\n",
    "       song_list.config(text=\"Input some songs\")\n",
    "\n",
    "\n",
    "root = tk.Tk()\n",
    "root.title(\"Spotify Song Recommender\")\n",
    "\n",
    "\n",
    "entry = tk.Entry(root, width=30)\n",
    "entry.pack(pady=10)\n",
    "\n",
    "song_button = tk.Button(root, text=\"Submit song\", command=submit_song)\n",
    "song_button.pack()\n",
    "\n",
    "list_button = tk.Button(root, text=\"Show song list\", command=song_list)\n",
    "list_button.pack()\n",
    "\n",
    "song_list = tk.Label(root, text=\"\")\n",
    "\n",
    "songs = tk.Label(root, text=\"Songs:\")\n",
    "songs_2 = tk.Label(root, text=\"\")\n",
    "song_list = tk.Label(root, text=\"\")\n",
    "\n",
    "songs.pack()\n",
    "songs_2.pack()\n",
    "song_list.pack(pady=10)\n",
    "\n",
    "\n",
    "root.mainloop()"
   ]
  },
  {
   "cell_type": "code",
   "execution_count": 22,
   "id": "c7722070",
   "metadata": {},
   "outputs": [
    {
     "name": "stdout",
     "output_type": "stream",
     "text": [
      "[[-0.06669568 -0.09863818  0.04980293 ... -0.00151163  0.05756469\n",
      "  -0.05387075]\n",
      " [-0.06669568 -0.09863818  0.04980293 ... -0.00151163  0.05756469\n",
      "  -0.05387075]\n",
      " [-0.06669568 -0.09863818  0.04980293 ... -0.00151163  0.05756469\n",
      "  -0.05387075]\n",
      " ...\n",
      " [-0.06669568 -0.09863818  0.04980293 ... -0.00151163  0.05756469\n",
      "  -0.05387075]\n",
      " [-0.06669568 -0.09863818  0.04980293 ... -0.00151163  0.05756469\n",
      "  -0.05387075]\n",
      " [-0.06669568 -0.09863818  0.04980293 ... -0.00151163  0.05756469\n",
      "  -0.05387075]]\n"
     ]
    }
   ],
   "source": [
    "\n",
    "\n",
    "print(embeddings)"
   ]
  }
 ],
 "metadata": {
  "kernelspec": {
   "display_name": "Python 3",
   "language": "python",
   "name": "python3"
  },
  "language_info": {
   "codemirror_mode": {
    "name": "ipython",
    "version": 3
   },
   "file_extension": ".py",
   "mimetype": "text/x-python",
   "name": "python",
   "nbconvert_exporter": "python",
   "pygments_lexer": "ipython3",
   "version": "3.10.0"
  }
 },
 "nbformat": 4,
 "nbformat_minor": 5
}
