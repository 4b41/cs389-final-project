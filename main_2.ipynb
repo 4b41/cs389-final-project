{
 "cells": [
  {
   "cell_type": "markdown",
   "id": "7f6bee415730f32a",
   "metadata": {
    "collapsed": false
   },
   "source": [
    "START OF THE FINAL PROJECT"
   ]
  },
  {
   "cell_type": "markdown",
   "id": "b7c031ef52f94cbb",
   "metadata": {
    "collapsed": false
   },
   "source": [
    "All of the import statements"
   ]
  },
  {
   "cell_type": "code",
   "execution_count": 1,
   "id": "fa67f091efafbc32",
   "metadata": {
    "ExecuteTime": {
     "end_time": "2024-04-24T20:40:27.441733Z",
     "start_time": "2024-04-24T20:40:26.253721Z"
    },
    "collapsed": false
   },
   "outputs": [
    {
     "name": "stderr",
     "output_type": "stream",
     "text": [
      "/Library/Frameworks/Python.framework/Versions/3.10/lib/python3.10/site-packages/tqdm/auto.py:21: TqdmWarning: IProgress not found. Please update jupyter and ipywidgets. See https://ipywidgets.readthedocs.io/en/stable/user_install.html\n",
      "  from .autonotebook import tqdm as notebook_tqdm\n"
     ]
    }
   ],
   "source": [
    "import pandas as pd\n",
    "import transformers\n",
    "from torch import torch_version\n",
    "from torch import nn\n",
    "import torch"
   ]
  },
  {
   "cell_type": "markdown",
   "id": "acd75bad8ccf5b51",
   "metadata": {
    "collapsed": false
   },
   "source": [
    "1)LOAD THE DATASET"
   ]
  },
  {
   "cell_type": "code",
   "execution_count": 2,
   "id": "a3adce08b5c44c5e",
   "metadata": {
    "ExecuteTime": {
     "end_time": "2024-04-24T20:40:28.371651Z",
     "start_time": "2024-04-24T20:40:28.285406Z"
    },
    "collapsed": false
   },
   "outputs": [],
   "source": [
    "import pandas as pd\n",
    "import string\n",
    "import re \n",
    "# from config import CONFIG\n",
    "\n",
    "\n",
    "\n",
    "class PREPROCESS:\n",
    "    def __init__(self) -> None:\n",
    "        df = pd.read_csv(\"output_csv_file.csv\")\n",
    "        df[\"prepText\"] = df[\"Lyrics\"].apply(self.cleanString)\n",
    "        df = df[[\"Artist\", \"Title\", \"prepText\",\"Label\"]]\n",
    "        # save the file \n",
    "        df.to_csv(\"preprocessed_songs_gram.csv\", index=False)\n",
    "    \n",
    "    def cleanString(self,sentence):\n",
    "        sentence = sentence.translate(str.maketrans(\"\",\"\", string.punctuation)).strip().lower()\n",
    "        sentence = re.sub(r\"https?://\\s+\", \"\", sentence)\n",
    "        sentence = re.sub(r\"\\b\\d+\\b\",  \"\", sentence)\n",
    "        sentence = re.sub(r\" +\",\" \",sentence).replace(\"\\n\", \" \").replace(\"\\r\", \"\").replace(\"\\r\\n\", \"\")\n",
    "        sentence = re.sub(\"\\s+\", \" \", sentence)\n",
    "        return sentence    \n",
    "\n",
    "\n"
   ]
  },
  {
   "cell_type": "code",
   "execution_count": 39,
   "id": "791eb5383158367c",
   "metadata": {
    "ExecuteTime": {
     "end_time": "2024-04-24T20:40:29.425122Z",
     "start_time": "2024-04-24T20:40:28.617389Z"
    },
    "collapsed": false
   },
   "outputs": [
    {
     "data": {
      "text/plain": [
       "<__main__.PREPROCESS at 0x3bf263d30>"
      ]
     },
     "execution_count": 39,
     "metadata": {},
     "output_type": "execute_result"
    }
   ],
   "source": [
    "PREPROCESS()\n"
   ]
  },
  {
   "cell_type": "code",
   "execution_count": 44,
   "id": "6d34bcc2950e075d",
   "metadata": {
    "ExecuteTime": {
     "end_time": "2024-04-24T20:40:30.587002Z",
     "start_time": "2024-04-24T20:40:29.967951Z"
    },
    "collapsed": false
   },
   "outputs": [],
   "source": [
    "from sentence_transformers import SentenceTransformer\n",
    "\n",
    "import os\n",
    "import numpy as np\n",
    "from tqdm import tqdm\n",
    "# import faiss\n",
    "class findEmbedding:\n",
    "    def __init__(self) -> None:\n",
    "        self.df = pd.read_csv(\"preprocessed_songs_gram.csv\")\n",
    "        self.model = SentenceTransformer('all-MiniLM-L6-v2')\n",
    "        embeddings = self.computeEmbeddings()\n",
    "        if not os.path.isdir(\"results\"):\n",
    "            os.mkdir(\"results\")\n",
    "        PATH = os.path.join(\"embedding.npy\")\n",
    "        with open( PATH, \"wb\") as fp:\n",
    "            np.save(fp, embeddings)\n",
    "\n",
    "    def computeEmbeddings(self):\n",
    "        sentences = self.df[\"prepText\"].values\n",
    "        embeddings = []\n",
    "        for sentence in tqdm(sentences):\n",
    "            embedding = self.model.encode(sentence)\n",
    "            embeddings.append(embedding)\n",
    "        return np.array(embeddings)"
   ]
  },
  {
   "cell_type": "code",
   "execution_count": 45,
   "id": "9f0f1d545a482278",
   "metadata": {
    "ExecuteTime": {
     "end_time": "2024-04-24T20:40:33.887534Z",
     "start_time": "2024-04-24T20:40:31.160541Z"
    },
    "collapsed": false
   },
   "outputs": [
    {
     "name": "stderr",
     "output_type": "stream",
     "text": [
      "/Library/Frameworks/Python.framework/Versions/3.10/lib/python3.10/site-packages/huggingface_hub/file_download.py:1132: FutureWarning: `resume_download` is deprecated and will be removed in version 1.0.0. Downloads always resume when possible. If you want to force a new download, use `force_download=True`.\n",
      "  warnings.warn(\n",
      "100%|██████████| 773/773 [00:42<00:00, 18.14it/s]\n"
     ]
    },
    {
     "data": {
      "text/plain": [
       "<__main__.findEmbedding at 0x3bf261570>"
      ]
     },
     "execution_count": 45,
     "metadata": {},
     "output_type": "execute_result"
    }
   ],
   "source": [
    "findEmbedding()"
   ]
  },
  {
   "cell_type": "code",
   "execution_count": 8,
   "id": "e50b4f33b4fb2040",
   "metadata": {
    "ExecuteTime": {
     "end_time": "2024-04-24T20:39:30.245904Z",
     "start_time": "2024-04-24T20:39:28.823554Z"
    },
    "collapsed": false
   },
   "outputs": [
    {
     "name": "stderr",
     "output_type": "stream",
     "text": [
      "/Library/Frameworks/Python.framework/Versions/3.10/lib/python3.10/site-packages/huggingface_hub/file_download.py:1132: FutureWarning: `resume_download` is deprecated and will be removed in version 1.0.0. Downloads always resume when possible. If you want to force a new download, use `force_download=True`.\n",
      "  warnings.warn(\n",
      "100%|██████████| 9/9 [00:00<00:00, 40.57it/s]\n"
     ]
    },
    {
     "ename": "NameError",
     "evalue": "name 'faiss' is not defined",
     "output_type": "error",
     "traceback": [
      "\u001b[0;31m---------------------------------------------------------------------------\u001b[0m",
      "\u001b[0;31mNameError\u001b[0m                                 Traceback (most recent call last)",
      "Cell \u001b[0;32mIn[8], line 33\u001b[0m\n\u001b[1;32m     31\u001b[0m         \u001b[38;5;28mprint\u001b[39m(artist_songs)\n\u001b[1;32m     32\u001b[0m findEmbedding()\n\u001b[0;32m---> 33\u001b[0m \u001b[43mrecmmSystem\u001b[49m\u001b[43m(\u001b[49m\u001b[43m)\u001b[49m\n",
      "Cell \u001b[0;32mIn[8], line 8\u001b[0m, in \u001b[0;36mrecmmSystem.__init__\u001b[0;34m(self)\u001b[0m\n\u001b[1;32m      6\u001b[0m embeddings \u001b[38;5;241m=\u001b[39m np\u001b[38;5;241m.\u001b[39mload(PATH)\n\u001b[1;32m      7\u001b[0m dimension \u001b[38;5;241m=\u001b[39m embeddings\u001b[38;5;241m.\u001b[39mshape[\u001b[38;5;241m1\u001b[39m]\n\u001b[0;32m----> 8\u001b[0m quantize \u001b[38;5;241m=\u001b[39m \u001b[43mfaiss\u001b[49m\u001b[38;5;241m.\u001b[39mIndexFlatL2(dimension)\n\u001b[1;32m      9\u001b[0m \u001b[38;5;28mself\u001b[39m\u001b[38;5;241m.\u001b[39mindex \u001b[38;5;241m=\u001b[39m faiss\u001b[38;5;241m.\u001b[39mIndexIVFFlat(quantize, dimension, \u001b[38;5;241m50\u001b[39m)\n\u001b[1;32m     11\u001b[0m \u001b[38;5;28;01mif\u001b[39;00m \u001b[38;5;129;01mnot\u001b[39;00m \u001b[38;5;28mself\u001b[39m\u001b[38;5;241m.\u001b[39mindex\u001b[38;5;241m.\u001b[39mis_trained:\n",
      "\u001b[0;31mNameError\u001b[0m: name 'faiss' is not defined"
     ]
    }
   ],
   "source": [
    "import faiss\n",
    "class recmmSystem:\n",
    "    def __init__(self) -> None:\n",
    "        self.model = SentenceTransformer('all-MiniLM-L6-v2')\n",
    "        self.df = pd.read_csv(\"preprocessed_songs.csv\")\n",
    "        PATH = os.path.join( \"embedding.npy\")\n",
    "        embeddings = np.load(PATH)\n",
    "        dimension = embeddings.shape[1]\n",
    "        quantize = faiss.IndexFlatL2(dimension)\n",
    "        self.index = faiss.IndexIVFFlat(quantize, dimension, 50)\n",
    "\n",
    "        if not self.index.is_trained:\n",
    "            print(1)\n",
    "            self.index.train(embeddings)\n",
    "        \n",
    "        if self.index.is_trained:\n",
    "            print(0)\n",
    "            self.index.add(embeddings)\n",
    "\n",
    "        print(\"Total Number of embeddings index {}\".format(self.index.ntotal))\n",
    "    \n",
    "    def nearestNeighbour(self, query, k):\n",
    "        queryEmbeddings = self.model.encode([query])\n",
    "        D, I = self.index.search(queryEmbeddings, k)\n",
    "        artist_songs = dict()\n",
    "        allRelatable = self.df.iloc[I[0]]\n",
    "        for index, rows in allRelatable.iterrows():\n",
    "            print(rows[\"artist\"])\n",
    "            artist_songs[rows[\"artist\"]] = rows[\"song\"]\n",
    "        \n",
    "        print(\"Query: \", query)\n",
    "        print(artist_songs)\n",
    "findEmbedding()\n",
    "recmmSystem()"
   ]
  },
  {
   "cell_type": "code",
   "execution_count": 27,
   "id": "a70095453b1e4fb6",
   "metadata": {
    "ExecuteTime": {
     "end_time": "2024-04-24T20:40:45.032742Z",
     "start_time": "2024-04-24T20:40:44.925249Z"
    },
    "collapsed": false
   },
   "outputs": [
    {
     "name": "stderr",
     "output_type": "stream",
     "text": [
      "/var/folders/_3/hpp2kxf54pndqxk7bcfbzl6w0000gn/T/ipykernel_38932/456693216.py:25: UserWarning: To copy construct from a tensor, it is recommended to use sourceTensor.clone().detach() or sourceTensor.clone().detach().requires_grad_(True), rather than torch.tensor(sourceTensor).\n",
      "  user_tensors_tensor = torch.tensor(user_tensors, dtype=torch.float32)\n",
      "/Library/Frameworks/Python.framework/Versions/3.10/lib/python3.10/site-packages/torch/nn/modules/loss.py:535: UserWarning: Using a target size (torch.Size([1])) that is different to the input size (torch.Size([])). This will likely lead to incorrect results due to broadcasting. Please ensure they have the same size.\n",
      "  return F.mse_loss(input, target, reduction=self.reduction)\n"
     ]
    },
    {
     "name": "stdout",
     "output_type": "stream",
     "text": [
      "torch.Size([9, 385])\n"
     ]
    },
    {
     "ename": "NameError",
     "evalue": "name 'faiss' is not defined",
     "output_type": "error",
     "traceback": [
      "\u001b[0;31m---------------------------------------------------------------------------\u001b[0m",
      "\u001b[0;31mNameError\u001b[0m                                 Traceback (most recent call last)",
      "Cell \u001b[0;32mIn[27], line 83\u001b[0m\n\u001b[1;32m     81\u001b[0m      \u001b[38;5;28mprint\u001b[39m(\u001b[38;5;124m\"\u001b[39m\u001b[38;5;124mQuery: \u001b[39m\u001b[38;5;124m\"\u001b[39m, queryEmbeddings)\n\u001b[1;32m     82\u001b[0m      \u001b[38;5;28mprint\u001b[39m(artist_songs)\n\u001b[0;32m---> 83\u001b[0m \u001b[43mnearestNeighbour\u001b[49m\u001b[43m(\u001b[49m\u001b[43muser_embeddings\u001b[49m\u001b[43m,\u001b[49m\u001b[38;5;241;43m4\u001b[39;49m\u001b[43m)\u001b[49m\n",
      "Cell \u001b[0;32mIn[27], line 68\u001b[0m, in \u001b[0;36mnearestNeighbour\u001b[0;34m(queryEmbeddings, k)\u001b[0m\n\u001b[1;32m     67\u001b[0m \u001b[38;5;28;01mdef\u001b[39;00m \u001b[38;5;21mnearestNeighbour\u001b[39m( queryEmbeddings, k):\n\u001b[0;32m---> 68\u001b[0m      quantize \u001b[38;5;241m=\u001b[39m \u001b[43mfaiss\u001b[49m\u001b[38;5;241m.\u001b[39mIndexFlatL2(queryEmbeddings\u001b[38;5;241m.\u001b[39mshape[\u001b[38;5;241m1\u001b[39m])\n\u001b[1;32m     69\u001b[0m      index \u001b[38;5;241m=\u001b[39m faiss\u001b[38;5;241m.\u001b[39mIndexIVFFlat(quantize, queryEmbeddings\u001b[38;5;241m.\u001b[39mshape[\u001b[38;5;241m1\u001b[39m], \u001b[38;5;241m5\u001b[39m)\n\u001b[1;32m     70\u001b[0m      D, I \u001b[38;5;241m=\u001b[39m index\u001b[38;5;241m.\u001b[39msearch(queryEmbeddings, k)\n",
      "\u001b[0;31mNameError\u001b[0m: name 'faiss' is not defined"
     ]
    }
   ],
   "source": [
    "from torch import optim\n",
    "from torch.utils.data import DataLoader, TensorDataset\n",
    "\n",
    "\n",
    "class SongUserClassifier(nn.Module):\n",
    "    def __init__(self, input_size, hidden_size, output_size):\n",
    "        super(SongUserClassifier, self).__init__()\n",
    "        self.fc1 = nn.Linear(input_size, hidden_size)\n",
    "        self.relu = nn.ReLU()\n",
    "        self.fc2 = nn.Linear(hidden_size, output_size)\n",
    "\n",
    "    def forward(self, x):\n",
    "        out = self.fc1(x)\n",
    "        out = self.relu(out)\n",
    "        out = self.fc2(out)\n",
    "        return out\n",
    "    \n",
    "\n",
    "num_users = 1  # Change this to the number of users you have\n",
    "user_tensors = torch.eye(num_users)  # Create one-hot encoded tensors for users\n",
    "labels = [1,1,1,1,1,0,0,0,0]\n",
    "embeddings = np.load(\"embedding.npy\")\n",
    "\n",
    "embeddings_tensor = torch.tensor(embeddings, dtype=torch.float32)\n",
    "user_tensors_tensor = torch.tensor(user_tensors, dtype=torch.float32)\n",
    "labels_tensor = torch.tensor(labels, dtype=torch.float32)\n",
    "input_tensor = torch.cat((user_tensors_tensor.repeat(len(labels), 1), embeddings_tensor), dim=1)\n",
    "print(input_tensor.shape)\n",
    "input_size = input_tensor.shape[1]\n",
    "hidden_size = 64\n",
    "learning_rate = 0.001\n",
    "batch_size = 4  # Adjust the batch size as needed\n",
    "num_epochs = 100\n",
    "\n",
    "# Create DataLoader for batch processing\n",
    "dataset = TensorDataset(input_tensor, labels_tensor)\n",
    "dataloader = DataLoader(dataset, batch_size=batch_size, shuffle=True)\n",
    "model = SongUserClassifier(input_size, hidden_size,1)\n",
    "criterion = nn.MSELoss()\n",
    "optimizer = optim.Adam(model.parameters(), lr=learning_rate)\n",
    "\n",
    "# Training loop\n",
    "for epoch in range(num_epochs):\n",
    "    total_loss = 0.0\n",
    "    for inputs, labels in dataloader:\n",
    "        # Forward pass\n",
    "        outputs = model(inputs)\n",
    "        loss = criterion(outputs.squeeze(), labels)\n",
    "\n",
    "        # Backward pass and optimization\n",
    "        optimizer.zero_grad()\n",
    "        loss.backward()\n",
    "        optimizer.step()\n",
    "\n",
    "        total_loss += loss.item() * inputs.size(0)\n",
    "\n",
    "    # Print average loss for the epoch\n",
    "    epoch_loss = total_loss / len(dataset)\n",
    "    # print(f'Epoch [{epoch+1}/{num_epochs}], Loss: {epoch_loss:.4f}')\n",
    "\n",
    "# Extract learned user embeddings\n",
    "user_embeddings = model.fc1.weight.data.numpy()\n",
    "\n",
    "# Print learned user embeddings\n",
    "# print(\"Learned User Embeddings:\")\n",
    "# print(user_embeddings)\n",
    "def nearestNeighbour( queryEmbeddings, k):\n",
    "     quantize = faiss.IndexFlatL2(queryEmbeddings.shape[1])\n",
    "     index = faiss.IndexIVFFlat(quantize, queryEmbeddings.shape[1], 5)\n",
    "     D, I = index.search(queryEmbeddings, k)\n",
    "     print(-1)\n",
    "     df = pd.read_csv(\"preprocessed_songs.csv\")\n",
    "     print(0)\n",
    "     artist_songs = dict()\n",
    "     allRelatable = df.iloc[I[0]]\n",
    "     for index, rows in allRelatable.iterrows():\n",
    "         print(1)\n",
    "         print(rows[\"artist\"])\n",
    "         artist_songs[rows[\"artist\"]] = rows[\"song\"]\n",
    "    \n",
    "     print(\"Query: \", queryEmbeddings)\n",
    "     print(artist_songs)\n",
    "nearestNeighbour(user_embeddings,4)"
   ]
  },
  {
   "cell_type": "code",
   "execution_count": 6,
   "id": "a5d11baff66bc67c",
   "metadata": {
    "ExecuteTime": {
     "end_time": "2024-04-24T02:22:20.108288Z",
     "start_time": "2024-04-24T02:22:20.104822Z"
    },
    "collapsed": false
   },
   "outputs": [
    {
     "data": {
      "text/plain": [
       "tensor([[1., 0., 0., 0., 0., 0., 0., 0., 0., 0.],\n",
       "        [0., 1., 0., 0., 0., 0., 0., 0., 0., 0.],\n",
       "        [0., 0., 1., 0., 0., 0., 0., 0., 0., 0.],\n",
       "        [0., 0., 0., 1., 0., 0., 0., 0., 0., 0.],\n",
       "        [0., 0., 0., 0., 1., 0., 0., 0., 0., 0.],\n",
       "        [0., 0., 0., 0., 0., 1., 0., 0., 0., 0.],\n",
       "        [0., 0., 0., 0., 0., 0., 1., 0., 0., 0.],\n",
       "        [0., 0., 0., 0., 0., 0., 0., 1., 0., 0.],\n",
       "        [0., 0., 0., 0., 0., 0., 0., 0., 1., 0.],\n",
       "        [0., 0., 0., 0., 0., 0., 0., 0., 0., 1.]])"
      ]
     },
     "execution_count": 6,
     "metadata": {},
     "output_type": "execute_result"
    }
   ],
   "source": [
    "\n",
    "user_tensors = torch.eye(10) \n",
    "user_tensors"
   ]
  },
  {
   "cell_type": "code",
   "execution_count": 1,
   "id": "3fd080bc7473d032",
   "metadata": {
    "collapsed": false
   },
   "outputs": [
    {
     "ename": "TabError",
     "evalue": "inconsistent use of tabs and spaces in indentation (catalog.py, line 327)",
     "output_type": "error",
     "traceback": [
      "Traceback \u001b[0;36m(most recent call last)\u001b[0m:\n",
      "\u001b[0m  File \u001b[1;32m/Library/Frameworks/Python.framework/Versions/3.10/lib/python3.10/site-packages/IPython/core/interactiveshell.py:3442\u001b[0m in \u001b[1;35mrun_code\u001b[0m\n    exec(code_obj, self.user_global_ns, self.user_ns)\u001b[0m\n",
      "\u001b[0;36m  Cell \u001b[0;32mIn[1], line 1\u001b[0;36m\n\u001b[0;31m    from pyechonest import catalog\u001b[0;36m\n",
      "\u001b[0;36m  File \u001b[0;32m/Library/Frameworks/Python.framework/Versions/3.10/lib/python3.10/site-packages/pyechonest/catalog.py:327\u001b[0;36m\u001b[0m\n\u001b[0;31m    if since:\u001b[0m\n\u001b[0m             ^\u001b[0m\n\u001b[0;31mTabError\u001b[0m\u001b[0;31m:\u001b[0m inconsistent use of tabs and spaces in indentation\n"
     ]
    }
   ],
   "source": [
    "from pyechonest import catalog\n",
    "cat = catalog.Catalog('CACNYVZ1332EB0BA9D')\n",
    "cat.read()"
   ]
  },
  {
   "cell_type": "code",
   "execution_count": 9,
   "id": "5e5ac65c",
   "metadata": {},
   "outputs": [],
   "source": [
    "import torch\n",
    "import torch.nn as nn\n",
    "from torch import optim\n",
    "from torch.utils.data import DataLoader, TensorDataset\n",
    "from torchvision import transforms\n",
    "\n",
    "class fs_model(nn.Module):\n",
    "    def __init__(self, input_dim, hidden_dim, output_dim):\n",
    "        super(fs_model, self).__init__()\n",
    "        self.relu = nn.ReLU()  \n",
    "        self.sigmoid = nn.Sigmoid();\n",
    "        self.fc1 = nn.Linear(input_dim, hidden_dim) \n",
    "        self.fc2 = nn.Linear(hidden_dim, hidden_dim)\n",
    "        self.fc3 = nn.Linear(hidden_dim, output_dim) \n",
    "\n",
    "    def forward(self, x):\n",
    "        x = self.fc1(x)\n",
    "        x = self.fc2(x)\n",
    "        x = self.relu(x)\n",
    "        x = self.fc3(x)\n",
    "        x = self.sigmoid(x);\n",
    "        return x\n"
   ]
  },
  {
   "cell_type": "code",
   "execution_count": 15,
   "id": "da8de495",
   "metadata": {},
   "outputs": [
    {
     "name": "stderr",
     "output_type": "stream",
     "text": [
      "/var/folders/_3/hpp2kxf54pndqxk7bcfbzl6w0000gn/T/ipykernel_64492/2226937525.py:7: UserWarning: To copy construct from a tensor, it is recommended to use sourceTensor.clone().detach() or sourceTensor.clone().detach().requires_grad_(True), rather than torch.tensor(sourceTensor).\n",
      "  user_tensors_tensor = torch.tensor(user_tensors, dtype=torch.float32)\n"
     ]
    },
    {
     "ename": "RuntimeError",
     "evalue": "Sizes of tensors must match except in dimension 1. Expected size 450 but got size 9 for tensor number 1 in the list.",
     "output_type": "error",
     "traceback": [
      "\u001b[0;31m---------------------------------------------------------------------------\u001b[0m",
      "\u001b[0;31mRuntimeError\u001b[0m                              Traceback (most recent call last)",
      "Cell \u001b[0;32mIn[15], line 9\u001b[0m\n\u001b[1;32m      7\u001b[0m user_tensors_tensor \u001b[38;5;241m=\u001b[39m torch\u001b[38;5;241m.\u001b[39mtensor(user_tensors, dtype\u001b[38;5;241m=\u001b[39mtorch\u001b[38;5;241m.\u001b[39mfloat32)\n\u001b[1;32m      8\u001b[0m labels_tensor \u001b[38;5;241m=\u001b[39m torch\u001b[38;5;241m.\u001b[39mtensor(labels, dtype\u001b[38;5;241m=\u001b[39mtorch\u001b[38;5;241m.\u001b[39mfloat32)\n\u001b[0;32m----> 9\u001b[0m input_tensor \u001b[38;5;241m=\u001b[39m \u001b[43mtorch\u001b[49m\u001b[38;5;241;43m.\u001b[39;49m\u001b[43mcat\u001b[49m\u001b[43m(\u001b[49m\u001b[43m(\u001b[49m\u001b[43muser_tensors_tensor\u001b[49m\u001b[38;5;241;43m.\u001b[39;49m\u001b[43mrepeat\u001b[49m\u001b[43m(\u001b[49m\u001b[38;5;28;43mlen\u001b[39;49m\u001b[43m(\u001b[49m\u001b[43mlabels\u001b[49m\u001b[43m)\u001b[49m\u001b[43m,\u001b[49m\u001b[43m \u001b[49m\u001b[38;5;241;43m1\u001b[39;49m\u001b[43m)\u001b[49m\u001b[43m,\u001b[49m\u001b[43m \u001b[49m\u001b[43membeddings_tensor\u001b[49m\u001b[43m)\u001b[49m\u001b[43m,\u001b[49m\u001b[43m \u001b[49m\u001b[43mdim\u001b[49m\u001b[38;5;241;43m=\u001b[39;49m\u001b[38;5;241;43m1\u001b[39;49m\u001b[43m)\u001b[49m\n\u001b[1;32m     10\u001b[0m input_size \u001b[38;5;241m=\u001b[39m input_tensor\u001b[38;5;241m.\u001b[39mshape[\u001b[38;5;241m1\u001b[39m]\n\u001b[1;32m     12\u001b[0m model \u001b[38;5;241m=\u001b[39m fs_model(input_size,\u001b[38;5;241m50\u001b[39m,\u001b[38;5;241m1\u001b[39m)\n",
      "\u001b[0;31mRuntimeError\u001b[0m: Sizes of tensors must match except in dimension 1. Expected size 450 but got size 9 for tensor number 1 in the list."
     ]
    }
   ],
   "source": [
    "num_users = 50  # Change this to the number of users you have\n",
    "user_tensors = torch.eye(num_users)  # Create one-hot encoded tensors for users\n",
    "labels = [1,1,1,1,1,0,0,0,0]\n",
    "embeddings = np.load(\"embedding.npy\")\n",
    "\n",
    "embeddings_tensor = torch.tensor(embeddings, dtype=torch.float32)\n",
    "user_tensors_tensor = torch.tensor(user_tensors, dtype=torch.float32)\n",
    "labels_tensor = torch.tensor(labels, dtype=torch.float32)\n",
    "input_tensor = torch.cat((user_tensors_tensor.repeat(len(labels), 1), embeddings_tensor), dim=1)\n",
    "input_size = input_tensor.shape[1]\n",
    "\n",
    "model = fs_model(input_size,50,1)\n",
    "loss_func  = nn.MSELoss()\n",
    "optimizer = optim.Adam(model.parameters(), lr=0.001)\n",
    "num_epochs = 100\n",
    "\n",
    "transform = transforms.Compose([transforms.ToTensor(), transforms.Normalize((0.5,), (0.5,))])\n",
    "\n",
    "dataset = TensorDataset(input_tensor, labels_tensor)\n",
    "data_train, data_test = torch.utils.data.random_split(dataset, [7, 2])\n",
    "\n",
    "train_loader = DataLoader(data_train, batch_size=32, shuffle=True)\n",
    "test_loader = DataLoader(data_test, batch_size=32, shuffle=False)\n",
    "\n",
    "for epoch in range(num_epochs):\n",
    "    model.train()\n",
    "    for batch_idx, (data, target) in enumerate(train_loader):\n",
    "        optimizer.zero_grad()\n",
    "        output = model(data)\n",
    "        loss = loss(output, target)\n",
    "        loss.backward()\n",
    "        optimizer.step()\n",
    "        print('Epoch {}, Batch {}, Loss {}'.format(epoch, batch_idx, loss.item()))\n",
    "\n",
    "model.eval()\n",
    "correct = 0\n",
    "total = 0\n",
    "with torch.no_grad():\n",
    "    for data, target in test_loader:\n",
    "        output = model(data)\n",
    "        _, predicted = torch.max(output.data, 1)\n",
    "        total += target.size(0)\n",
    "        correct += (predicted == target).sum().item()\n",
    "\n",
    "print('Accuracy on test set: {}%'.format(100*correct/total))"
   ]
  },
  {
   "cell_type": "code",
   "execution_count": 12,
   "id": "fb4073ed",
   "metadata": {},
   "outputs": [
    {
     "name": "stderr",
     "output_type": "stream",
     "text": [
      "/var/folders/_3/hpp2kxf54pndqxk7bcfbzl6w0000gn/T/ipykernel_73138/3706396032.py:20: UserWarning: To copy construct from a tensor, it is recommended to use sourceTensor.clone().detach() or sourceTensor.clone().detach().requires_grad_(True), rather than torch.tensor(sourceTensor).\n",
      "  user_tensors_tensor = torch.tensor(user_tensors, dtype=torch.float32)\n",
      "[I 2024-05-07 11:51:17,828] A new study created in memory with name: no-name-e7139b07-e340-4863-a1f6-94131b1be2f7\n",
      "/var/folders/_3/hpp2kxf54pndqxk7bcfbzl6w0000gn/T/ipykernel_73138/3706396032.py:50: FutureWarning: suggest_loguniform has been deprecated in v3.0.0. This feature will be removed in v6.0.0. See https://github.com/optuna/optuna/releases/tag/v3.0.0. Use suggest_float(..., log=True) instead.\n",
      "  lr = trial.suggest_loguniform('lr', 1e-4, 1e-1)\n",
      "/Library/Frameworks/Python.framework/Versions/3.10/lib/python3.10/site-packages/torch/nn/modules/loss.py:535: UserWarning: Using a target size (torch.Size([32])) that is different to the input size (torch.Size([32, 1])). This will likely lead to incorrect results due to broadcasting. Please ensure they have the same size.\n",
      "  return F.mse_loss(input, target, reduction=self.reduction)\n",
      "[W 2024-05-07 11:51:17,898] Trial 0 failed with parameters: {'hidden_dim': 69, 'lr': 0.0023461211389980636, 'batch_size': 32} because of the following error: TypeError(\"'Tensor' object is not callable\").\n",
      "Traceback (most recent call last):\n",
      "  File \"/Library/Frameworks/Python.framework/Versions/3.10/lib/python3.10/site-packages/optuna/study/_optimize.py\", line 196, in _run_trial\n",
      "    value_or_values = func(trial)\n",
      "  File \"/var/folders/_3/hpp2kxf54pndqxk7bcfbzl6w0000gn/T/ipykernel_73138/3706396032.py\", line 63, in objective\n",
      "    training(model, train_loader, test_loader, loss_func, optimizer, num_epochs)\n",
      "  File \"/var/folders/_3/hpp2kxf54pndqxk7bcfbzl6w0000gn/T/ipykernel_73138/3706396032.py\", line 31, in training\n",
      "    loss = loss(output, target)\n",
      "TypeError: 'Tensor' object is not callable\n",
      "[W 2024-05-07 11:51:17,899] Trial 0 failed with value None.\n"
     ]
    },
    {
     "ename": "TypeError",
     "evalue": "'Tensor' object is not callable",
     "output_type": "error",
     "traceback": [
      "\u001b[0;31m---------------------------------------------------------------------------\u001b[0m",
      "\u001b[0;31mTypeError\u001b[0m                                 Traceback (most recent call last)",
      "Cell \u001b[0;32mIn[12], line 83\u001b[0m\n\u001b[1;32m     76\u001b[0m     \u001b[38;5;28;01mreturn\u001b[39;00m accuracy\n\u001b[1;32m     80\u001b[0m study \u001b[38;5;241m=\u001b[39m optuna\u001b[38;5;241m.\u001b[39mcreate_study(direction\u001b[38;5;241m=\u001b[39m\u001b[38;5;124m'\u001b[39m\u001b[38;5;124mmaximize\u001b[39m\u001b[38;5;124m'\u001b[39m)\n\u001b[0;32m---> 83\u001b[0m \u001b[43mstudy\u001b[49m\u001b[38;5;241;43m.\u001b[39;49m\u001b[43moptimize\u001b[49m\u001b[43m(\u001b[49m\u001b[43mobjective\u001b[49m\u001b[43m,\u001b[49m\u001b[43m \u001b[49m\u001b[43mn_trials\u001b[49m\u001b[38;5;241;43m=\u001b[39;49m\u001b[38;5;241;43m10\u001b[39;49m\u001b[43m)\u001b[49m\n\u001b[1;32m     86\u001b[0m best_params \u001b[38;5;241m=\u001b[39m study\u001b[38;5;241m.\u001b[39mbest_params\n\u001b[1;32m     87\u001b[0m best_accuracy \u001b[38;5;241m=\u001b[39m study\u001b[38;5;241m.\u001b[39mbest_value\n",
      "File \u001b[0;32m/Library/Frameworks/Python.framework/Versions/3.10/lib/python3.10/site-packages/optuna/study/study.py:451\u001b[0m, in \u001b[0;36mStudy.optimize\u001b[0;34m(self, func, n_trials, timeout, n_jobs, catch, callbacks, gc_after_trial, show_progress_bar)\u001b[0m\n\u001b[1;32m    348\u001b[0m \u001b[38;5;28;01mdef\u001b[39;00m \u001b[38;5;21moptimize\u001b[39m(\n\u001b[1;32m    349\u001b[0m     \u001b[38;5;28mself\u001b[39m,\n\u001b[1;32m    350\u001b[0m     func: ObjectiveFuncType,\n\u001b[0;32m   (...)\u001b[0m\n\u001b[1;32m    357\u001b[0m     show_progress_bar: \u001b[38;5;28mbool\u001b[39m \u001b[38;5;241m=\u001b[39m \u001b[38;5;28;01mFalse\u001b[39;00m,\n\u001b[1;32m    358\u001b[0m ) \u001b[38;5;241m-\u001b[39m\u001b[38;5;241m>\u001b[39m \u001b[38;5;28;01mNone\u001b[39;00m:\n\u001b[1;32m    359\u001b[0m \u001b[38;5;250m    \u001b[39m\u001b[38;5;124;03m\"\"\"Optimize an objective function.\u001b[39;00m\n\u001b[1;32m    360\u001b[0m \n\u001b[1;32m    361\u001b[0m \u001b[38;5;124;03m    Optimization is done by choosing a suitable set of hyperparameter values from a given\u001b[39;00m\n\u001b[0;32m   (...)\u001b[0m\n\u001b[1;32m    449\u001b[0m \u001b[38;5;124;03m            If nested invocation of this method occurs.\u001b[39;00m\n\u001b[1;32m    450\u001b[0m \u001b[38;5;124;03m    \"\"\"\u001b[39;00m\n\u001b[0;32m--> 451\u001b[0m     \u001b[43m_optimize\u001b[49m\u001b[43m(\u001b[49m\n\u001b[1;32m    452\u001b[0m \u001b[43m        \u001b[49m\u001b[43mstudy\u001b[49m\u001b[38;5;241;43m=\u001b[39;49m\u001b[38;5;28;43mself\u001b[39;49m\u001b[43m,\u001b[49m\n\u001b[1;32m    453\u001b[0m \u001b[43m        \u001b[49m\u001b[43mfunc\u001b[49m\u001b[38;5;241;43m=\u001b[39;49m\u001b[43mfunc\u001b[49m\u001b[43m,\u001b[49m\n\u001b[1;32m    454\u001b[0m \u001b[43m        \u001b[49m\u001b[43mn_trials\u001b[49m\u001b[38;5;241;43m=\u001b[39;49m\u001b[43mn_trials\u001b[49m\u001b[43m,\u001b[49m\n\u001b[1;32m    455\u001b[0m \u001b[43m        \u001b[49m\u001b[43mtimeout\u001b[49m\u001b[38;5;241;43m=\u001b[39;49m\u001b[43mtimeout\u001b[49m\u001b[43m,\u001b[49m\n\u001b[1;32m    456\u001b[0m \u001b[43m        \u001b[49m\u001b[43mn_jobs\u001b[49m\u001b[38;5;241;43m=\u001b[39;49m\u001b[43mn_jobs\u001b[49m\u001b[43m,\u001b[49m\n\u001b[1;32m    457\u001b[0m \u001b[43m        \u001b[49m\u001b[43mcatch\u001b[49m\u001b[38;5;241;43m=\u001b[39;49m\u001b[38;5;28;43mtuple\u001b[39;49m\u001b[43m(\u001b[49m\u001b[43mcatch\u001b[49m\u001b[43m)\u001b[49m\u001b[43m \u001b[49m\u001b[38;5;28;43;01mif\u001b[39;49;00m\u001b[43m \u001b[49m\u001b[38;5;28;43misinstance\u001b[39;49m\u001b[43m(\u001b[49m\u001b[43mcatch\u001b[49m\u001b[43m,\u001b[49m\u001b[43m \u001b[49m\u001b[43mIterable\u001b[49m\u001b[43m)\u001b[49m\u001b[43m \u001b[49m\u001b[38;5;28;43;01melse\u001b[39;49;00m\u001b[43m \u001b[49m\u001b[43m(\u001b[49m\u001b[43mcatch\u001b[49m\u001b[43m,\u001b[49m\u001b[43m)\u001b[49m\u001b[43m,\u001b[49m\n\u001b[1;32m    458\u001b[0m \u001b[43m        \u001b[49m\u001b[43mcallbacks\u001b[49m\u001b[38;5;241;43m=\u001b[39;49m\u001b[43mcallbacks\u001b[49m\u001b[43m,\u001b[49m\n\u001b[1;32m    459\u001b[0m \u001b[43m        \u001b[49m\u001b[43mgc_after_trial\u001b[49m\u001b[38;5;241;43m=\u001b[39;49m\u001b[43mgc_after_trial\u001b[49m\u001b[43m,\u001b[49m\n\u001b[1;32m    460\u001b[0m \u001b[43m        \u001b[49m\u001b[43mshow_progress_bar\u001b[49m\u001b[38;5;241;43m=\u001b[39;49m\u001b[43mshow_progress_bar\u001b[49m\u001b[43m,\u001b[49m\n\u001b[1;32m    461\u001b[0m \u001b[43m    \u001b[49m\u001b[43m)\u001b[49m\n",
      "File \u001b[0;32m/Library/Frameworks/Python.framework/Versions/3.10/lib/python3.10/site-packages/optuna/study/_optimize.py:62\u001b[0m, in \u001b[0;36m_optimize\u001b[0;34m(study, func, n_trials, timeout, n_jobs, catch, callbacks, gc_after_trial, show_progress_bar)\u001b[0m\n\u001b[1;32m     60\u001b[0m \u001b[38;5;28;01mtry\u001b[39;00m:\n\u001b[1;32m     61\u001b[0m     \u001b[38;5;28;01mif\u001b[39;00m n_jobs \u001b[38;5;241m==\u001b[39m \u001b[38;5;241m1\u001b[39m:\n\u001b[0;32m---> 62\u001b[0m         \u001b[43m_optimize_sequential\u001b[49m\u001b[43m(\u001b[49m\n\u001b[1;32m     63\u001b[0m \u001b[43m            \u001b[49m\u001b[43mstudy\u001b[49m\u001b[43m,\u001b[49m\n\u001b[1;32m     64\u001b[0m \u001b[43m            \u001b[49m\u001b[43mfunc\u001b[49m\u001b[43m,\u001b[49m\n\u001b[1;32m     65\u001b[0m \u001b[43m            \u001b[49m\u001b[43mn_trials\u001b[49m\u001b[43m,\u001b[49m\n\u001b[1;32m     66\u001b[0m \u001b[43m            \u001b[49m\u001b[43mtimeout\u001b[49m\u001b[43m,\u001b[49m\n\u001b[1;32m     67\u001b[0m \u001b[43m            \u001b[49m\u001b[43mcatch\u001b[49m\u001b[43m,\u001b[49m\n\u001b[1;32m     68\u001b[0m \u001b[43m            \u001b[49m\u001b[43mcallbacks\u001b[49m\u001b[43m,\u001b[49m\n\u001b[1;32m     69\u001b[0m \u001b[43m            \u001b[49m\u001b[43mgc_after_trial\u001b[49m\u001b[43m,\u001b[49m\n\u001b[1;32m     70\u001b[0m \u001b[43m            \u001b[49m\u001b[43mreseed_sampler_rng\u001b[49m\u001b[38;5;241;43m=\u001b[39;49m\u001b[38;5;28;43;01mFalse\u001b[39;49;00m\u001b[43m,\u001b[49m\n\u001b[1;32m     71\u001b[0m \u001b[43m            \u001b[49m\u001b[43mtime_start\u001b[49m\u001b[38;5;241;43m=\u001b[39;49m\u001b[38;5;28;43;01mNone\u001b[39;49;00m\u001b[43m,\u001b[49m\n\u001b[1;32m     72\u001b[0m \u001b[43m            \u001b[49m\u001b[43mprogress_bar\u001b[49m\u001b[38;5;241;43m=\u001b[39;49m\u001b[43mprogress_bar\u001b[49m\u001b[43m,\u001b[49m\n\u001b[1;32m     73\u001b[0m \u001b[43m        \u001b[49m\u001b[43m)\u001b[49m\n\u001b[1;32m     74\u001b[0m     \u001b[38;5;28;01melse\u001b[39;00m:\n\u001b[1;32m     75\u001b[0m         \u001b[38;5;28;01mif\u001b[39;00m n_jobs \u001b[38;5;241m==\u001b[39m \u001b[38;5;241m-\u001b[39m\u001b[38;5;241m1\u001b[39m:\n",
      "File \u001b[0;32m/Library/Frameworks/Python.framework/Versions/3.10/lib/python3.10/site-packages/optuna/study/_optimize.py:159\u001b[0m, in \u001b[0;36m_optimize_sequential\u001b[0;34m(study, func, n_trials, timeout, catch, callbacks, gc_after_trial, reseed_sampler_rng, time_start, progress_bar)\u001b[0m\n\u001b[1;32m    156\u001b[0m         \u001b[38;5;28;01mbreak\u001b[39;00m\n\u001b[1;32m    158\u001b[0m \u001b[38;5;28;01mtry\u001b[39;00m:\n\u001b[0;32m--> 159\u001b[0m     frozen_trial \u001b[38;5;241m=\u001b[39m \u001b[43m_run_trial\u001b[49m\u001b[43m(\u001b[49m\u001b[43mstudy\u001b[49m\u001b[43m,\u001b[49m\u001b[43m \u001b[49m\u001b[43mfunc\u001b[49m\u001b[43m,\u001b[49m\u001b[43m \u001b[49m\u001b[43mcatch\u001b[49m\u001b[43m)\u001b[49m\n\u001b[1;32m    160\u001b[0m \u001b[38;5;28;01mfinally\u001b[39;00m:\n\u001b[1;32m    161\u001b[0m     \u001b[38;5;66;03m# The following line mitigates memory problems that can be occurred in some\u001b[39;00m\n\u001b[1;32m    162\u001b[0m     \u001b[38;5;66;03m# environments (e.g., services that use computing containers such as GitHub Actions).\u001b[39;00m\n\u001b[1;32m    163\u001b[0m     \u001b[38;5;66;03m# Please refer to the following PR for further details:\u001b[39;00m\n\u001b[1;32m    164\u001b[0m     \u001b[38;5;66;03m# https://github.com/optuna/optuna/pull/325.\u001b[39;00m\n\u001b[1;32m    165\u001b[0m     \u001b[38;5;28;01mif\u001b[39;00m gc_after_trial:\n",
      "File \u001b[0;32m/Library/Frameworks/Python.framework/Versions/3.10/lib/python3.10/site-packages/optuna/study/_optimize.py:247\u001b[0m, in \u001b[0;36m_run_trial\u001b[0;34m(study, func, catch)\u001b[0m\n\u001b[1;32m    240\u001b[0m         \u001b[38;5;28;01massert\u001b[39;00m \u001b[38;5;28;01mFalse\u001b[39;00m, \u001b[38;5;124m\"\u001b[39m\u001b[38;5;124mShould not reach.\u001b[39m\u001b[38;5;124m\"\u001b[39m\n\u001b[1;32m    242\u001b[0m \u001b[38;5;28;01mif\u001b[39;00m (\n\u001b[1;32m    243\u001b[0m     frozen_trial\u001b[38;5;241m.\u001b[39mstate \u001b[38;5;241m==\u001b[39m TrialState\u001b[38;5;241m.\u001b[39mFAIL\n\u001b[1;32m    244\u001b[0m     \u001b[38;5;129;01mand\u001b[39;00m func_err \u001b[38;5;129;01mis\u001b[39;00m \u001b[38;5;129;01mnot\u001b[39;00m \u001b[38;5;28;01mNone\u001b[39;00m\n\u001b[1;32m    245\u001b[0m     \u001b[38;5;129;01mand\u001b[39;00m \u001b[38;5;129;01mnot\u001b[39;00m \u001b[38;5;28misinstance\u001b[39m(func_err, catch)\n\u001b[1;32m    246\u001b[0m ):\n\u001b[0;32m--> 247\u001b[0m     \u001b[38;5;28;01mraise\u001b[39;00m func_err\n\u001b[1;32m    248\u001b[0m \u001b[38;5;28;01mreturn\u001b[39;00m frozen_trial\n",
      "File \u001b[0;32m/Library/Frameworks/Python.framework/Versions/3.10/lib/python3.10/site-packages/optuna/study/_optimize.py:196\u001b[0m, in \u001b[0;36m_run_trial\u001b[0;34m(study, func, catch)\u001b[0m\n\u001b[1;32m    194\u001b[0m \u001b[38;5;28;01mwith\u001b[39;00m get_heartbeat_thread(trial\u001b[38;5;241m.\u001b[39m_trial_id, study\u001b[38;5;241m.\u001b[39m_storage):\n\u001b[1;32m    195\u001b[0m     \u001b[38;5;28;01mtry\u001b[39;00m:\n\u001b[0;32m--> 196\u001b[0m         value_or_values \u001b[38;5;241m=\u001b[39m \u001b[43mfunc\u001b[49m\u001b[43m(\u001b[49m\u001b[43mtrial\u001b[49m\u001b[43m)\u001b[49m\n\u001b[1;32m    197\u001b[0m     \u001b[38;5;28;01mexcept\u001b[39;00m exceptions\u001b[38;5;241m.\u001b[39mTrialPruned \u001b[38;5;28;01mas\u001b[39;00m e:\n\u001b[1;32m    198\u001b[0m         \u001b[38;5;66;03m# TODO(mamu): Handle multi-objective cases.\u001b[39;00m\n\u001b[1;32m    199\u001b[0m         state \u001b[38;5;241m=\u001b[39m TrialState\u001b[38;5;241m.\u001b[39mPRUNED\n",
      "Cell \u001b[0;32mIn[12], line 63\u001b[0m, in \u001b[0;36mobjective\u001b[0;34m(trial)\u001b[0m\n\u001b[1;32m     60\u001b[0m train_loader \u001b[38;5;241m=\u001b[39m DataLoader(data_train, batch_size\u001b[38;5;241m=\u001b[39m\u001b[38;5;241m32\u001b[39m, shuffle\u001b[38;5;241m=\u001b[39m\u001b[38;5;28;01mTrue\u001b[39;00m)\n\u001b[1;32m     61\u001b[0m test_loader \u001b[38;5;241m=\u001b[39m DataLoader(data_test, batch_size\u001b[38;5;241m=\u001b[39m\u001b[38;5;241m32\u001b[39m, shuffle\u001b[38;5;241m=\u001b[39m\u001b[38;5;28;01mFalse\u001b[39;00m)\n\u001b[0;32m---> 63\u001b[0m \u001b[43mtraining\u001b[49m\u001b[43m(\u001b[49m\u001b[43mmodel\u001b[49m\u001b[43m,\u001b[49m\u001b[43m \u001b[49m\u001b[43mtrain_loader\u001b[49m\u001b[43m,\u001b[49m\u001b[43m \u001b[49m\u001b[43mtest_loader\u001b[49m\u001b[43m,\u001b[49m\u001b[43m \u001b[49m\u001b[43mloss_func\u001b[49m\u001b[43m,\u001b[49m\u001b[43m \u001b[49m\u001b[43moptimizer\u001b[49m\u001b[43m,\u001b[49m\u001b[43m \u001b[49m\u001b[43mnum_epochs\u001b[49m\u001b[43m)\u001b[49m\n\u001b[1;32m     65\u001b[0m model\u001b[38;5;241m.\u001b[39meval()\n\u001b[1;32m     66\u001b[0m correct \u001b[38;5;241m=\u001b[39m \u001b[38;5;241m0\u001b[39m\n",
      "Cell \u001b[0;32mIn[12], line 31\u001b[0m, in \u001b[0;36mtraining\u001b[0;34m(model, train_loader, test_loader, loss, optimizer, num_epochs)\u001b[0m\n\u001b[1;32m     29\u001b[0m optimizer\u001b[38;5;241m.\u001b[39mzero_grad()\n\u001b[1;32m     30\u001b[0m output \u001b[38;5;241m=\u001b[39m model(data)\n\u001b[0;32m---> 31\u001b[0m loss \u001b[38;5;241m=\u001b[39m \u001b[43mloss\u001b[49m\u001b[43m(\u001b[49m\u001b[43moutput\u001b[49m\u001b[43m,\u001b[49m\u001b[43m \u001b[49m\u001b[43mtarget\u001b[49m\u001b[43m)\u001b[49m\n\u001b[1;32m     32\u001b[0m loss\u001b[38;5;241m.\u001b[39mbackward()\n\u001b[1;32m     33\u001b[0m optimizer\u001b[38;5;241m.\u001b[39mstep()\n",
      "\u001b[0;31mTypeError\u001b[0m: 'Tensor' object is not callable"
     ]
    }
   ],
   "source": [
    "import optuna\n",
    "import numpy as np\n",
    "\n",
    "import json\n",
    "\n",
    "with open('user_0_songs.json', 'r') as file:\n",
    "    data_dict = json.load(file)\n",
    "\n",
    "\n",
    "num_users = 1  # Change this to the number of users you have\n",
    "user_tensors = torch.eye(num_users)  # Create one-hot encoded tensors for users\n",
    "dat = pd.read_csv('preprocessed_songs_gram.csv')\n",
    "dat = dat['Label']\n",
    "labels = dat[(dat == '0') | (dat == '1')]\n",
    "labels = [int(x) for x in labels]\n",
    "labels = labels[:251]\n",
    "embeddings = np.load(\"embedding_lyrics_total.npy\")\n",
    "\n",
    "loss_func  = nn.MSELoss()\n",
    "\n",
    "embeddings_tensor = torch.tensor(embeddings, dtype=torch.float32)\n",
    "user_tensors_tensor = torch.tensor(user_tensors, dtype=torch.float32)\n",
    "labels_tensor = torch.tensor(labels, dtype=torch.float32)\n",
    "input_tensor = torch.cat((user_tensors_tensor.repeat(len(labels), 1), embeddings_tensor), dim=1)\n",
    "input_size = input_tensor.shape[1]\n",
    "\n",
    "def training(model, train_loader, test_loader, loss, optimizer, num_epochs):\n",
    "    for epoch in range(num_epochs):\n",
    "        model.train()\n",
    "        for batch_idx, (data, target) in enumerate(train_loader):\n",
    "            optimizer.zero_grad()\n",
    "            output = model(data)\n",
    "            loss = loss_func(output, target)\n",
    "            loss.backward()\n",
    "            optimizer.step()\n",
    "            # print('Epoch {}, Batch {}, Loss {}'.format(epoch, batch_idx, loss.item()))\n",
    "\n",
    "        model.eval()\n",
    "        correct = 0\n",
    "        total = 0\n",
    "        with torch.no_grad():\n",
    "            for data, target in test_loader:\n",
    "                output = model(data)\n",
    "                _, predicted = torch.max(output.data, 1)\n",
    "                total += target.size(0)\n",
    "                correct += (predicted == target).sum().item()\n",
    "\n",
    "        # print('Accuracy on test set: {}%'.format(100*correct/total))\n",
    "\n",
    "def objective(trial):\n",
    "    hidden_dim = trial.suggest_int('hidden_dim', 50, 200)\n",
    "    lr = trial.suggest_loguniform('lr', 1e-4, 1e-1)\n",
    "    batch_size = trial.suggest_categorical('batch_size', [32, 64, 128])\n",
    "    num_epochs = 100\n",
    "\n",
    "    model = fs_model(input_size,50,1)\n",
    "    loss_func  = nn.MSELoss()\n",
    "    optimizer = optim.Adam(model.parameters(), lr=0.001)\n",
    "\n",
    "    dataset = TensorDataset(input_tensor, labels_tensor)\n",
    "    data_train, data_test = torch.utils.data.random_split(dataset, [211, 40])\n",
    "    train_loader = DataLoader(data_train, batch_size=32, shuffle=True)\n",
    "    test_loader = DataLoader(data_test, batch_size=32, shuffle=False)\n",
    "\n",
    "    training(model, train_loader, test_loader, loss_func, optimizer, num_epochs)\n",
    "\n",
    "    model.eval()\n",
    "    correct = 0\n",
    "    total = 0\n",
    "    with torch.no_grad():\n",
    "        for data, target in test_loader:\n",
    "            output = model(data)\n",
    "            _, predicted = torch.max(output.data, 1)\n",
    "            total += target.size(0)\n",
    "            correct += (predicted == target).sum().item()\n",
    "\n",
    "    accuracy = 100 * correct / total\n",
    "    return accuracy\n",
    "    \n",
    "    \n",
    "\n",
    "study = optuna.create_study(direction='maximize')\n",
    "\n",
    "\n",
    "study.optimize(objective, n_trials=10)\n",
    "\n",
    "\n",
    "best_params = study.best_params\n",
    "best_accuracy = study.best_value\n",
    "\n",
    "print(\"Best parameters:\", best_params)\n",
    "print(\"Best validation accuracy:\", best_accuracy)"
   ]
  },
  {
   "cell_type": "code",
   "execution_count": 10,
   "id": "a1f18038",
   "metadata": {},
   "outputs": [
    {
     "name": "stderr",
     "output_type": "stream",
     "text": [
      "Exception in Tkinter callback\n",
      "Traceback (most recent call last):\n",
      "  File \"/Library/Frameworks/Python.framework/Versions/3.10/lib/python3.10/tkinter/__init__.py\", line 1921, in __call__\n",
      "    return self.func(*args)\n",
      "  File \"/var/folders/_3/hpp2kxf54pndqxk7bcfbzl6w0000gn/T/ipykernel_69786/3149611433.py\", line 9, in song_list\n",
      "    if shown:\n",
      "UnboundLocalError: local variable 'shown' referenced before assignment\n",
      "Exception in Tkinter callback\n",
      "Traceback (most recent call last):\n",
      "  File \"/Library/Frameworks/Python.framework/Versions/3.10/lib/python3.10/tkinter/__init__.py\", line 1921, in __call__\n",
      "    return self.func(*args)\n",
      "  File \"/var/folders/_3/hpp2kxf54pndqxk7bcfbzl6w0000gn/T/ipykernel_69786/3149611433.py\", line 9, in song_list\n",
      "    if shown:\n",
      "UnboundLocalError: local variable 'shown' referenced before assignment\n",
      "Exception in Tkinter callback\n",
      "Traceback (most recent call last):\n",
      "  File \"/Library/Frameworks/Python.framework/Versions/3.10/lib/python3.10/tkinter/__init__.py\", line 1921, in __call__\n",
      "    return self.func(*args)\n",
      "  File \"/var/folders/_3/hpp2kxf54pndqxk7bcfbzl6w0000gn/T/ipykernel_69786/3149611433.py\", line 9, in song_list\n",
      "    if shown:\n",
      "UnboundLocalError: local variable 'shown' referenced before assignment\n",
      "Exception in Tkinter callback\n",
      "Traceback (most recent call last):\n",
      "  File \"/Library/Frameworks/Python.framework/Versions/3.10/lib/python3.10/tkinter/__init__.py\", line 1921, in __call__\n",
      "    return self.func(*args)\n",
      "  File \"/var/folders/_3/hpp2kxf54pndqxk7bcfbzl6w0000gn/T/ipykernel_69786/3149611433.py\", line 9, in song_list\n",
      "    if shown:\n",
      "UnboundLocalError: local variable 'shown' referenced before assignment\n",
      "Exception in Tkinter callback\n",
      "Traceback (most recent call last):\n",
      "  File \"/Library/Frameworks/Python.framework/Versions/3.10/lib/python3.10/tkinter/__init__.py\", line 1921, in __call__\n",
      "    return self.func(*args)\n",
      "  File \"/var/folders/_3/hpp2kxf54pndqxk7bcfbzl6w0000gn/T/ipykernel_69786/3149611433.py\", line 9, in song_list\n",
      "    if shown:\n",
      "UnboundLocalError: local variable 'shown' referenced before assignment\n",
      "Exception in Tkinter callback\n",
      "Traceback (most recent call last):\n",
      "  File \"/Library/Frameworks/Python.framework/Versions/3.10/lib/python3.10/tkinter/__init__.py\", line 1921, in __call__\n",
      "    return self.func(*args)\n",
      "  File \"/var/folders/_3/hpp2kxf54pndqxk7bcfbzl6w0000gn/T/ipykernel_69786/3149611433.py\", line 9, in song_list\n",
      "    if shown:\n",
      "UnboundLocalError: local variable 'shown' referenced before assignment\n",
      "Exception in Tkinter callback\n",
      "Traceback (most recent call last):\n",
      "  File \"/Library/Frameworks/Python.framework/Versions/3.10/lib/python3.10/tkinter/__init__.py\", line 1921, in __call__\n",
      "    return self.func(*args)\n",
      "  File \"/var/folders/_3/hpp2kxf54pndqxk7bcfbzl6w0000gn/T/ipykernel_69786/3149611433.py\", line 9, in song_list\n",
      "    if shown:\n",
      "UnboundLocalError: local variable 'shown' referenced before assignment\n",
      "Exception in Tkinter callback\n",
      "Traceback (most recent call last):\n",
      "  File \"/Library/Frameworks/Python.framework/Versions/3.10/lib/python3.10/tkinter/__init__.py\", line 1921, in __call__\n",
      "    return self.func(*args)\n",
      "  File \"/var/folders/_3/hpp2kxf54pndqxk7bcfbzl6w0000gn/T/ipykernel_69786/3149611433.py\", line 9, in song_list\n",
      "    if shown:\n",
      "UnboundLocalError: local variable 'shown' referenced before assignment\n"
     ]
    },
    {
     "ename": "",
     "evalue": "",
     "output_type": "error",
     "traceback": [
      "\u001b[1;31mThe Kernel crashed while executing code in the current cell or a previous cell. \n",
      "\u001b[1;31mPlease review the code in the cell(s) to identify a possible cause of the failure. \n",
      "\u001b[1;31mClick <a href='https://aka.ms/vscodeJupyterKernelCrash'>here</a> for more info. \n",
      "\u001b[1;31mView Jupyter <a href='command:jupyter.viewOutput'>log</a> for further details."
     ]
    }
   ],
   "source": [
    "import tkinter as tk\n",
    "\n",
    "\n",
    "song_arr = []\n",
    "\n",
    "shown = False\n",
    "\n",
    "def song_list():\n",
    "    if shown:\n",
    "        shown = True\n",
    "    else:\n",
    "        shown = False\n",
    "    \n",
    "    if shown:\n",
    "        song_list.config(text=f\"{song_arr}!\")\n",
    "    else:\n",
    "        song_list.config(text=\"\")\n",
    "\n",
    "\n",
    "def submit_song():\n",
    "    song = entry.get()\n",
    "    if song in song_arr:\n",
    "        songs_2.config(text=f\"{song} is already in list!\")\n",
    "    else:\n",
    "        song_arr.append(song)\n",
    "    if song:\n",
    "        song_list.config(text=f\"{song_arr}!\")\n",
    "    else:\n",
    "       song_list.config(text=\"Input some songs\")\n",
    "\n",
    "\n",
    "root = tk.Tk()\n",
    "root.title(\"Spotify Song Recommender\")\n",
    "\n",
    "\n",
    "entry = tk.Entry(root, width=30)\n",
    "entry.pack(pady=10)\n",
    "\n",
    "song_button = tk.Button(root, text=\"Submit song\", command=submit_song)\n",
    "song_button.pack()\n",
    "\n",
    "list_button = tk.Button(root, text=\"Show song list\", command=song_list)\n",
    "list_button.pack()\n",
    "\n",
    "song_list = tk.Label(root, text=\"\")\n",
    "\n",
    "songs = tk.Label(root, text=\"Songs:\")\n",
    "songs_2 = tk.Label(root, text=\"\")\n",
    "song_list = tk.Label(root, text=\"\")\n",
    "\n",
    "songs.pack()\n",
    "songs_2.pack()\n",
    "song_list.pack(pady=10)\n",
    "\n",
    "\n",
    "root.mainloop()"
   ]
  },
  {
   "cell_type": "code",
   "execution_count": 2,
   "id": "c7722070",
   "metadata": {},
   "outputs": [],
   "source": [
    "\n",
    "\n"
   ]
  }
 ],
 "metadata": {
  "kernelspec": {
   "display_name": "Python 3",
   "language": "python",
   "name": "python3"
  },
  "language_info": {
   "codemirror_mode": {
    "name": "ipython",
    "version": 3
   },
   "file_extension": ".py",
   "mimetype": "text/x-python",
   "name": "python",
   "nbconvert_exporter": "python",
   "pygments_lexer": "ipython3",
   "version": "3.10.0"
  }
 },
 "nbformat": 4,
 "nbformat_minor": 5
}
