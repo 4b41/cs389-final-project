{
 "cells": [
  {
   "cell_type": "markdown",
   "id": "7f6bee415730f32a",
   "metadata": {
    "collapsed": false
   },
   "source": [
    "START OF THE FINAL PROJECT"
   ]
  },
  {
   "cell_type": "markdown",
   "id": "b7c031ef52f94cbb",
   "metadata": {
    "collapsed": false
   },
   "source": [
    "All of the import statements"
   ]
  },
  {
   "cell_type": "code",
   "execution_count": 10,
   "id": "fa67f091efafbc32",
   "metadata": {
    "ExecuteTime": {
     "end_time": "2024-05-08T08:54:31.913699Z",
     "start_time": "2024-05-08T08:54:30.501481Z"
    },
    "collapsed": false
   },
   "outputs": [],
   "source": [
    "import pandas as pd\n",
    "import transformers\n",
    "from torch import torch_version\n",
    "from torch import nn\n",
    "import torch\n",
    "import lyricsgenius\n",
    "from tqdm import tqdm\n",
    "import numpy as np"
   ]
  },
  {
   "cell_type": "markdown",
   "id": "acd75bad8ccf5b51",
   "metadata": {
    "collapsed": false
   },
   "source": [
    "1)LOAD THE DATASET"
   ]
  },
  {
   "cell_type": "code",
   "execution_count": 11,
   "id": "a3adce08b5c44c5e",
   "metadata": {
    "ExecuteTime": {
     "end_time": "2024-04-24T20:40:28.371651Z",
     "start_time": "2024-04-24T20:40:28.285406Z"
    },
    "collapsed": false
   },
   "outputs": [],
   "source": [
    "import pandas as pd\n",
    "import string\n",
    "import re \n",
    "# from config import CONFIG\n",
    "\n",
    "\n",
    "\n",
    "class PREPROCESS:\n",
    "    def __init__(self) -> None:\n",
    "        df = pd.read_csv(\"output_csv_file.csv\")\n",
    "        df[\"prepText\"] = df[\"Lyrics\"].apply(self.cleanString)\n",
    "        df = df[[\"Artist\", \"Title\", \"prepText\",\"Label\"]]\n",
    "        # save the file \n",
    "        df.to_csv(\"preprocessed_songs_gram.csv\", index=False)\n",
    "    \n",
    "    def cleanString(self,sentence):\n",
    "        sentence = sentence.translate(str.maketrans(\"\",\"\", string.punctuation)).strip().lower()\n",
    "        sentence = re.sub(r\"https?://\\s+\", \"\", sentence)\n",
    "        sentence = re.sub(r\"\\b\\d+\\b\",  \"\", sentence)\n",
    "        sentence = re.sub(r\" +\",\" \",sentence).replace(\"\\n\", \" \").replace(\"\\r\", \"\").replace(\"\\r\\n\", \"\")\n",
    "        sentence = re.sub(\"\\s+\", \" \", sentence)\n",
    "        return sentence    \n",
    "\n",
    "\n"
   ]
  },
  {
   "cell_type": "code",
   "execution_count": 12,
   "id": "791eb5383158367c",
   "metadata": {
    "ExecuteTime": {
     "end_time": "2024-04-24T20:40:29.425122Z",
     "start_time": "2024-04-24T20:40:28.617389Z"
    },
    "collapsed": false
   },
   "outputs": [
    {
     "data": {
      "text/plain": [
       "<__main__.PREPROCESS at 0x284196b30>"
      ]
     },
     "execution_count": 12,
     "metadata": {},
     "output_type": "execute_result"
    }
   ],
   "source": [
    "PREPROCESS()\n"
   ]
  },
  {
   "cell_type": "code",
   "execution_count": 13,
   "id": "6d34bcc2950e075d",
   "metadata": {
    "ExecuteTime": {
     "end_time": "2024-04-24T20:40:30.587002Z",
     "start_time": "2024-04-24T20:40:29.967951Z"
    },
    "collapsed": false
   },
   "outputs": [],
   "source": [
    "from sentence_transformers import SentenceTransformer\n",
    "\n",
    "import os\n",
    "import numpy as np\n",
    "from tqdm import tqdm\n",
    "# import faiss\n",
    "class findEmbedding:\n",
    "    def __init__(self) -> None:\n",
    "        self.df = pd.read_csv(\"preprocessed_songs_gram.csv\")\n",
    "        self.model = SentenceTransformer('all-MiniLM-L6-v2')\n",
    "        embeddings = self.computeEmbeddings()\n",
    "        if not os.path.isdir(\"results\"):\n",
    "            os.mkdir(\"results\")\n",
    "        PATH = os.path.join(\"embedding.npy\")\n",
    "        with open( PATH, \"wb\") as fp:\n",
    "            np.save(fp, embeddings)\n",
    "\n",
    "    def computeEmbeddings(self):\n",
    "        sentences = self.df[\"prepText\"].values\n",
    "        embeddings = []\n",
    "        for sentence in tqdm(sentences):\n",
    "            embedding = self.model.encode(sentence)\n",
    "            embeddings.append(embedding)\n",
    "        return np.array(embeddings)"
   ]
  },
  {
   "cell_type": "code",
   "execution_count": 14,
   "id": "9f0f1d545a482278",
   "metadata": {
    "ExecuteTime": {
     "end_time": "2024-04-24T20:40:33.887534Z",
     "start_time": "2024-04-24T20:40:31.160541Z"
    },
    "collapsed": false
   },
   "outputs": [
    {
     "name": "stderr",
     "output_type": "stream",
     "text": [
      "/Library/Frameworks/Python.framework/Versions/3.10/lib/python3.10/site-packages/huggingface_hub/file_download.py:1132: FutureWarning: `resume_download` is deprecated and will be removed in version 1.0.0. Downloads always resume when possible. If you want to force a new download, use `force_download=True`.\n",
      "  warnings.warn(\n",
      "100%|██████████| 773/773 [00:15<00:00, 49.86it/s] \n"
     ]
    },
    {
     "data": {
      "text/plain": [
       "<__main__.findEmbedding at 0x2841954e0>"
      ]
     },
     "execution_count": 14,
     "metadata": {},
     "output_type": "execute_result"
    }
   ],
   "source": [
    "findEmbedding()"
   ]
  },
  {
   "cell_type": "code",
   "execution_count": 15,
   "id": "e50b4f33b4fb2040",
   "metadata": {
    "ExecuteTime": {
     "end_time": "2024-04-24T20:39:30.245904Z",
     "start_time": "2024-04-24T20:39:28.823554Z"
    },
    "collapsed": false
   },
   "outputs": [
    {
     "name": "stderr",
     "output_type": "stream",
     "text": [
      "/Library/Frameworks/Python.framework/Versions/3.10/lib/python3.10/site-packages/huggingface_hub/file_download.py:1132: FutureWarning: `resume_download` is deprecated and will be removed in version 1.0.0. Downloads always resume when possible. If you want to force a new download, use `force_download=True`.\n",
      "  warnings.warn(\n",
      "100%|██████████| 773/773 [00:06<00:00, 111.13it/s]\n"
     ]
    },
    {
     "name": "stdout",
     "output_type": "stream",
     "text": [
      "1\n",
      "0\n",
      "Total Number of embeddings index 773\n"
     ]
    },
    {
     "name": "stderr",
     "output_type": "stream",
     "text": [
      "WARNING clustering 773 points to 50 centroids: please provide at least 1950 training points\n"
     ]
    },
    {
     "data": {
      "text/plain": [
       "<__main__.recmmSystem at 0x2a5354820>"
      ]
     },
     "execution_count": 15,
     "metadata": {},
     "output_type": "execute_result"
    }
   ],
   "source": [
    "import faiss\n",
    "class recmmSystem:\n",
    "    def __init__(self) -> None:\n",
    "        self.model = SentenceTransformer('all-MiniLM-L6-v2')\n",
    "        self.df = pd.read_csv(\"preprocessed_songs.csv\")\n",
    "        PATH = os.path.join( \"embedding.npy\")\n",
    "        embeddings = np.load(PATH)\n",
    "        dimension = embeddings.shape[1]\n",
    "        quantize = faiss.IndexFlatL2(dimension)\n",
    "        self.index = faiss.IndexIVFFlat(quantize, dimension, 50)\n",
    "\n",
    "        if not self.index.is_trained:\n",
    "            print(1)\n",
    "            self.index.train(embeddings)\n",
    "        \n",
    "        if self.index.is_trained:\n",
    "            print(0)\n",
    "            self.index.add(embeddings)\n",
    "\n",
    "        print(\"Total Number of embeddings index {}\".format(self.index.ntotal))\n",
    "    \n",
    "    def nearestNeighbour(self, query, k):\n",
    "        queryEmbeddings = self.model.encode([query])\n",
    "        D, I = self.index.search(queryEmbeddings, k)\n",
    "        artist_songs = dict()\n",
    "        allRelatable = self.df.iloc[I[0]]\n",
    "        for index, rows in allRelatable.iterrows():\n",
    "            print(rows[\"artist\"])\n",
    "            artist_songs[rows[\"artist\"]] = rows[\"song\"]\n",
    "        \n",
    "        print(\"Query: \", query)\n",
    "        print(artist_songs)\n",
    "findEmbedding()\n",
    "recmmSystem()"
   ]
  },
  {
   "cell_type": "code",
   "execution_count": 17,
   "id": "3fd080bc7473d032",
   "metadata": {
    "collapsed": false
   },
   "outputs": [
    {
     "ename": "TabError",
     "evalue": "inconsistent use of tabs and spaces in indentation (catalog.py, line 327)",
     "output_type": "error",
     "traceback": [
      "Traceback \u001b[0;36m(most recent call last)\u001b[0m:\n",
      "\u001b[0m  File \u001b[1;32m/Library/Frameworks/Python.framework/Versions/3.10/lib/python3.10/site-packages/IPython/core/interactiveshell.py:3442\u001b[0m in \u001b[1;35mrun_code\u001b[0m\n    exec(code_obj, self.user_global_ns, self.user_ns)\u001b[0m\n",
      "\u001b[0;36m  Cell \u001b[0;32mIn[17], line 1\u001b[0;36m\n\u001b[0;31m    from pyechonest import catalog\u001b[0;36m\n",
      "\u001b[0;36m  File \u001b[0;32m/Library/Frameworks/Python.framework/Versions/3.10/lib/python3.10/site-packages/pyechonest/catalog.py:327\u001b[0;36m\u001b[0m\n\u001b[0;31m    if since:\u001b[0m\n\u001b[0m             ^\u001b[0m\n\u001b[0;31mTabError\u001b[0m\u001b[0;31m:\u001b[0m inconsistent use of tabs and spaces in indentation\n"
     ]
    }
   ],
   "source": [
    "from pyechonest import catalog\n",
    "cat = catalog.Catalog('CACNYVZ1332EB0BA9D')\n",
    "cat.read()"
   ]
  },
  {
   "cell_type": "code",
   "execution_count": 18,
   "id": "5e5ac65c",
   "metadata": {
    "ExecuteTime": {
     "end_time": "2024-05-08T08:55:27.651171Z",
     "start_time": "2024-05-08T08:55:26.892290Z"
    }
   },
   "outputs": [],
   "source": [
    "import torch\n",
    "import torch.nn as nn\n",
    "from torch import optim\n",
    "from torch.utils.data import DataLoader, TensorDataset\n",
    "from torchvision import transforms\n",
    "\n",
    "class fs_model(nn.Module):\n",
    "    def __init__(self, input_dim, hidden_dim, output_dim):\n",
    "        super(fs_model, self).__init__()\n",
    "        self.relu = nn.ReLU()  \n",
    "        self.sigmoid = nn.Sigmoid();\n",
    "        self.fc1 = nn.Linear(input_dim, hidden_dim) \n",
    "        self.fc2 = nn.Linear(hidden_dim, hidden_dim)\n",
    "        self.fc3 = nn.Linear(hidden_dim, output_dim) \n",
    "\n",
    "    def forward(self, x):\n",
    "        x = self.fc1(x)\n",
    "        x = self.fc2(x)\n",
    "        x = self.relu(x)\n",
    "        x = self.fc3(x)\n",
    "        x = self.sigmoid(x)\n",
    "        # x = torch.round(x)\n",
    "        return x\n"
   ]
  },
  {
   "cell_type": "code",
   "execution_count": 19,
   "id": "95c109fce7fb67bc",
   "metadata": {
    "ExecuteTime": {
     "end_time": "2024-05-08T08:55:20.235424Z",
     "start_time": "2024-05-08T08:55:12.093166Z"
    },
    "collapsed": false
   },
   "outputs": [
    {
     "name": "stdout",
     "output_type": "stream",
     "text": [
      "[]\n"
     ]
    }
   ],
   "source": [
    "import json,os\n",
    "i = 0\n",
    "labels = []\n",
    "for filename in os.listdir(\"results\"):\n",
    "    if i>6:\n",
    "        break\n",
    "    i+=1\n",
    "    with open(f\"results/{filename}\",\"r\") as file:\n",
    "        data = json.load(file)\n",
    "        for song in data:\n",
    "            labels.append(song[\"Label\"])\n",
    "labels = [element.rstrip(\"\\n\") for element in labels] \n",
    "labels = labels[:251]\n",
    "\n",
    "labels = [int(element) for element in labels]\n",
    "print(labels)    \n"
   ]
  },
  {
   "cell_type": "code",
   "execution_count": 20,
   "id": "fb4073ed",
   "metadata": {
    "ExecuteTime": {
     "end_time": "2024-05-08T13:52:49.631264Z",
     "start_time": "2024-05-08T13:52:48.358237Z"
    }
   },
   "outputs": [],
   "source": [
    "import optuna\n",
    "import numpy as np\n",
    "import torch\n",
    "import torch.nn as nn\n",
    "import matplotlib.pyplot as plt\n",
    "\n",
    "from  tqdm import tqdm\n",
    "import json\n",
    "\n",
    "# with open('user_4_songs.json', 'r') as file:\n",
    "#     data_dict = json.load(file)\n",
    "num_users = 1  # Change this to the number of users you have\n",
    "user_embeddings = torch.eye(num_users)  # Create one-hot encoded tensors for users\n",
    "\n",
    "embeddings = np.load(\"embedding_lyrics_total.npy\")\n",
    "\n",
    "loss_func  = nn.BCEWithLogitsLoss()\n",
    "\n",
    "embeddings_tensor = torch.tensor(embeddings, dtype=torch.float32)\n",
    "user_tensors_tensor = torch.tensor(user_embeddings, dtype=torch.float32)\n",
    "labels_tensor = torch.tensor(labels,dtype=torch.float32).unsqueeze(1)\n",
    "input_tensor = torch.cat((user_tensors_tensor.repeat(len(labels), 1), embeddings_tensor), dim=1)\n",
    "input_size = input_tensor.shape[1]\n",
    "losses = []\n",
    "def training(model, train_loader, optimizer, num_epochs):\n",
    "    for epoch in range(num_epochs):\n",
    "        model.train()\n",
    "        for batch_idx, (data, target) in enumerate(train_loader):\n",
    "\n",
    "            optimizer.zero_grad()\n",
    "            output = model(data)\n",
    "            loss = loss_func(output, target)\n",
    "            loss.backward()\n",
    "            optimizer.step()\n",
    "            losses.append(loss)\n",
    "            if len(losses) == 0:\n",
    "                losses.append(loss)\n",
    "            # print('Epoch {}, Batch {}, Loss {}'.format(epoch, batch_idx, loss.item()))\n",
    "\n",
    "        return model\n",
    "best_model = None\n",
    "def testing(model, loss_function, test_data):\n",
    "    global best_loss, best_model\n",
    "    '''\n",
    "    This function will test the given model on the given test_data\n",
    "    it will return the accuracy and the test loss (given by loss_function)\n",
    "    '''\n",
    "    sum_loss = 0\n",
    "    for batch_idx, (data, target) in enumerate(test_data):         \n",
    "    \n",
    "        pred = model(data)\n",
    "        loss = loss_function(pred,target )\n",
    "        sum_loss += loss.item()\n",
    "    \n",
    "    print(len(test_data))\n",
    "    avg_loss = round(sum_loss / len(test_data), 2)\n",
    "    if avg_loss < best_loss:\n",
    "    \n",
    "       best_loss = avg_loss\n",
    "       best_model = model\n",
    "        \n",
    "    \n",
    "    print(\"test loss:\", best_model )\n",
    "    return best_loss,best_model\n",
    "\n",
    "\n",
    "        # print('Accuracy on test set: {}%'.format(100*correct/total))\n",
    "accuracies = []\n",
    "model = None\n",
    "best_loss = 1000000\n",
    "b_loss = 100000\n",
    "def objective(trial):\n",
    "    global model,b_loss\n",
    "    hidden_dim = trial.suggest_int('hidden_dim', 50, 200)\n",
    "    lr = trial.suggest_loguniform('lr', 1e-6, 1e-1)\n",
    "    batch_size = trial.suggest_categorical('batch_size', [32, 64, 128])\n",
    "    num_epochs = 100\n",
    "\n",
    "    model = fs_model(input_size,hidden_dim,1)\n",
    "    optimizer = optim.Adam(model.parameters(), lr=lr)\n",
    "\n",
    "    dataset = TensorDataset(input_tensor, labels_tensor)\n",
    "    data_train, data_test = torch.utils.data.random_split(dataset, [211, 40])\n",
    "    train_loader = DataLoader(data_train, batch_size=batch_size, shuffle=True)\n",
    "    test_loader = DataLoader(data_test, batch_size=batch_size, shuffle=False)\n",
    "\n",
    "    trained_model = training(model, train_loader, optimizer, num_epochs)\n",
    "    test_loss,best_model = testing(trained_model,loss_func,test_loader)\n",
    "    print(\"Test loss is \", test_loss)\n",
    "    if test_loss < b_loss:\n",
    "    \n",
    "        b_loss = test_loss\n",
    "        best_model = model\n",
    "    \n",
    "    # model.eval()\n",
    "    correct = 0\n",
    "    total = 0\n",
    "    with torch.no_grad():\n",
    "        for data, target in test_loader:\n",
    "            output = model(data)\n",
    "            # print(data, 'data')\n",
    "            # print(output, 'output')\n",
    "            _, predicted = torch.max(output.data, 1)\n",
    "            total += target.size(0)\n",
    "            correct += (predicted == target).sum().item()\n",
    "\n",
    "    accuracy = 100 * correct / total\n",
    "    accuracies.append(accuracy)\n",
    "    return accuracy\n",
    "\n",
    "\n",
    "\n",
    "study = optuna.create_study(direction='maximize')\n",
    "\n",
    "\n",
    "study.optimize(objective, n_trials=100)\n",
    "\n",
    "\n",
    "best_params = study.best_params\n",
    "best_accuracy = study.best_value\n",
    "\n",
    "single_embedding = embeddings[0]\n",
    "single_embedding = np.append(single_embedding, 1)\n",
    "embeddings_tensor = torch.tensor(single_embedding, dtype=torch.float32)\n",
    "# input_tensor = torch.cat((user_tensors_tensor.repeat(len(labels), 1), embeddings_tensor), dim=1)\n",
    "\n",
    "# dataset = TensorDataset(input_tensor, labels_tensor)\n",
    "\n",
    "# train_loader = DataLoader(dataset, batch_size=32, shuffle=True)\n",
    "\n",
    "\n",
    "\n",
    "# embeddings_tensor = torch.tensor(embeddings, dtype=torch.float32)\n",
    "# user_tensors_tensor = torch.tensor(user_tensors, dtype=torch.float32)\n",
    "# labels_tensor = torch.tensor(labels, dtype=torch.float32)\n",
    "# input_tensor = torch.cat((user_tensors_tensor.repeat(len(labels), 1), embeddings_tensor), dim=1)\n",
    "\n",
    "# with torch.no_grad():\n",
    "#     for data, target in train_loader:\n",
    "#         model(data)\n",
    "final_output = best_model(embeddings_tensor).item()\n",
    "\n",
    "\n",
    "print(final_output)\n",
    "\n",
    "\n",
    "\n",
    "print(\"Best parameters:\", best_params)\n",
    "print(\"Best validation accuracy:\", best_accuracy)\n",
    "# losses = [loss.detach().numpy() for loss in losses]\n",
    "losses = [float(element) for element in losses]\n",
    "print(losses)\n",
    "plt.plot(losses)\n",
    "plt.xlabel('N_epochs')\n",
    "plt.ylabel('Losses')\n",
    "plt.title('Plot of Values')\n",
    "plt.show()\n",
    "print(best_params[\"hidden_dim\"])\n",
    "new_model = fs_model(input_size,2000,output_dim=1)\n"
   ]
  },
  {
   "cell_type": "code",
   "execution_count": null,
   "id": "fcf5c1248def891",
   "metadata": {
    "ExecuteTime": {
     "end_time": "2024-05-08T08:57:12.061331Z",
     "start_time": "2024-05-08T08:57:11.999339Z"
    },
    "collapsed": false
   },
   "outputs": [
    {
     "data": {
      "image/png": "[encoded data removed]",
      "text/plain": [
       "<Figure size 640x480 with 1 Axes>"
      ]
     },
     "metadata": {},
     "output_type": "display_data"
    }
   ],
   "source": [
    "plt.plot(accuracies)\n",
    "plt.xlabel('N_epochs')\n",
    "plt.ylabel('Accuracies')\n",
    "plt.title('Plot of Values')\n",
    "plt.show()"
   ]
  },
  {
   "cell_type": "code",
   "execution_count": 72,
   "id": "ef439458419ea9e4",
   "metadata": {
    "ExecuteTime": {
     "end_time": "2024-05-08T16:54:23.075822Z",
     "start_time": "2024-05-08T16:52:13.109424Z"
    },
    "collapsed": false
   },
   "outputs": [],
   "source": [
    "from tkinter import *\n",
    "from tkinter import ttk\n",
    "import customtkinter\n",
    "\n",
    "customtkinter.set_appearance_mode(\"System\")\n",
    "customtkinter.set_default_color_theme(\"blue\")\n",
    "\n",
    "import sv_ttk\n",
    "\n",
    "\n",
    "songs_dict = {}\n",
    "def get_lyrics(song_name, artist_name):\n",
    "    try:\n",
    "        dict_return = {}\n",
    "        token = \"3A0e7egqWm6omWk78xEe72UGXSUGNTiIVhTz81_Sq1pQc6ob_8642ZHCcmPC67WW\"\n",
    "        genius = lyricsgenius.Genius(token)\n",
    "        \n",
    "        artist = genius.search_song(song_name, artist_name)\n",
    "        dict_return[song_name] = artist.lyrics\n",
    "        return dict_return\n",
    "    except:\n",
    "        return \"No lyrics found\"\n",
    "f_num = 5\n",
    "h_num = 5\n",
    "\n",
    "\n",
    "def get_user_input():\n",
    "    \n",
    "    app = customtkinter.CTk()\n",
    "    app.title(\"Spotify Song Recommender\")\n",
    "    app.geometry(\"880x420\")  \n",
    "    left_frame = customtkinter.CTkFrame(master= app, width= 200, height= 400, corner_radius=12)\n",
    "    left_frame.grid(row=0, column=0, padx=10, pady=5)\n",
    "    left_frame.grid_propagate(False)\n",
    "\n",
    "    right_frame = customtkinter.CTkFrame(master= app, width= 650, height= 400, corner_radius=12)\n",
    "    right_frame.grid(row=0, column=1, padx=10, pady=5)\n",
    "    right_frame.grid_propagate(False)\n",
    "\n",
    "\n",
    "    # image = PhotoImage(file=\"spotify.png\")\n",
    "    # original_image = image.subsample(3,3)\n",
    "    # Label(left_frame, image=original_image).grid(row=1, column=0, padx=5, pady=5)\n",
    "\n",
    "    liked = customtkinter.CTkFrame(master= left_frame, width= 180, height= 180, corner_radius=12)\n",
    "    disliked = customtkinter.CTkFrame(master= left_frame, width= 180, height= 180, corner_radius=12)\n",
    "    liked.grid(row=0, column=0, padx=5, pady=5)\n",
    "    disliked.grid(row=1, column=0, padx=5, pady=5)\n",
    "\n",
    "    Label(liked, text=\"Liked songs:\").grid(row=0, column=0, padx=5, pady=5)\n",
    "    Label(disliked, text=\"Disliked songs:\").grid(row=0, column=0, padx=5, pady=5)\n",
    "\n",
    "\n",
    "    Label(right_frame, text=\"Enter liked songs:\").grid(row=0, column=0, padx=5, pady=5)\n",
    "    liked_entry = customtkinter.CTkEntry(right_frame, placeholder_text=\"Enter a liked song\", width= 600)\n",
    "    liked_entry.grid(row=1, column=0, columnspan=2, padx=(20, 0), pady=(20, 20), sticky=\"nsew\")\n",
    "\n",
    "    Label(right_frame, text=\"Enter disliked songs:\").grid(row=2, column=0, padx=5, pady=5)\n",
    "    disliked_entry = customtkinter.CTkEntry(right_frame, placeholder_text=\"Enter a disliked song\", width= 600)\n",
    "    disliked_entry.grid(row=3, column=0, columnspan=2, padx=(20, 0), pady=(20, 20), sticky=\"nsew\")\n",
    "    # tool_bar = Frame(left_frame, width=180, height=185)\n",
    "    # tool_bar.grid(row=2, column=0, padx=5, pady=5)\n",
    "\n",
    "    # Label(tool_bar, text=\"Tools\", relief=RAISED).grid(row=0, column=0, padx=5, pady=3, ipadx=10)\n",
    "    # Label(tool_bar, text=\"Filters\", relief=RAISED).grid(row=0, column=1, padx=5, pady=3, ipadx=10)\n",
    "\n",
    "    # Label(tool_bar, text=\"Select\").grid(row=1, column=0, padx=5, pady=5)\n",
    "    # Label(tool_bar, text=\"Crop\").grid(row=2, column=0, padx=5, pady=5)\n",
    "    # Label(tool_bar, text=\"Rotate & Flip\").grid(row=3, column=0, padx=5, pady=5)\n",
    "    # Label(tool_bar, text=\"Resize\").grid(row=4, column=0, padx=5, pady=5)\n",
    "    # Label(tool_bar, text=\"Exposure\").grid(row=5, column=0, padx=5, pady=5)\n",
    "    liked = []\n",
    "    disliked = []\n",
    "\n",
    "    \n",
    "    app.mainloop()\n",
    "\n",
    "    return liked.append(disliked)\n",
    "\n",
    "\n",
    "    # list_return = []\n",
    "    # global f_num,h_num\n",
    "    # for i in range(f_num):\n",
    "    #     try:\n",
    "    #         f_input = input(\"Input your favorite song(include artists after comma)\")\n",
    "    #         f_list = f_input.split(\",\")\n",
    "    #         songs_dict = get_lyrics(f_list[0], f_list[1])\n",
    "            \n",
    "    #         list_return.append(songs_dict)\n",
    "    #     except:\n",
    "    #         print(\"Song not found,try again\")\n",
    "    #         f_num+=1\n",
    "        \n",
    "    # for i in range(h_num):\n",
    "    #     try:\n",
    "\n",
    "    #         h_input = input(\"Input your hated songs (include artists after comma): \")\n",
    "            \n",
    "    #         h_list = h_input.split(\",\")\n",
    "    #         songs_dict = get_lyrics(h_list[0], h_list[1])\n",
    "    #         list_return.append(songs_dict)\n",
    "    #     except:\n",
    "    #         print(\"Song not found,try again\")\n",
    "    #         h_num+=1\n",
    "    # return list_return\n",
    "returned_list = get_user_input()"
   ]
  },
  {
   "cell_type": "code",
   "execution_count": 4,
   "id": "8eb9b6e3",
   "metadata": {},
   "outputs": [
    {
     "name": "stderr",
     "output_type": "stream",
     "text": [
      "invalid command name \"4385300096update\"\n",
      "    while executing\n",
      "\"4385300096update\"\n",
      "    (\"after\" script)\n",
      "invalid command name \"4390360640check_dpi_scaling\"\n",
      "    while executing\n",
      "\"4390360640check_dpi_scaling\"\n",
      "    (\"after\" script)\n"
     ]
    }
   ],
   "source": [
    "from tkinter import *\n",
    "from tkinter import ttk\n",
    "import customtkinter\n",
    "\n",
    "customtkinter.set_appearance_mode(\"System\")\n",
    "customtkinter.set_default_color_theme(\"blue\")\n",
    "\n",
    "\n",
    "def submit_song():\n",
    "    like = liked_entry.get()\n",
    "    dislike = disliked_entry.get()\n",
    "\n",
    "    liked_entry.delete(0, 'end')\n",
    "    disliked_entry.delete(0, 'end')\n",
    "\n",
    "    l_list = like.split(\",\")\n",
    "    d_list = dislike.split(\",\")\n",
    "\n",
    "    liked_list.append(get_lyrics(l_list[0], l_list[1]))\n",
    "    disliked_list.append(get_lyrics(d_list[0], d_list[1]))\n",
    "\n",
    "\n",
    "    Label(liked, text=l_list[0]).grid(row=len(liked_list), column=0, padx=5, pady=5)\n",
    "    Label(disliked, text=d_list[0]).grid(row=len(liked_list), column=0, padx=5, pady=5)\n",
    "\n",
    "    if (len(liked_list) == 5):\n",
    "        print(\"UMS\")\n",
    "        returned_list.append(liked)\n",
    "        returned_list.append(disliked)\n",
    "        song_button.config(state=DISABLED)\n",
    "\n",
    "\n",
    "\n",
    "app = customtkinter.CTk()\n",
    "app.title(\"Spotify Song Recommender\")\n",
    "app.geometry(\"880x420\")  \n",
    "left_frame = customtkinter.CTkFrame(master= app, width= 200, height= 400, corner_radius=12)\n",
    "left_frame.grid(row=0, column=0, padx=10, pady=5)    \n",
    "left_frame.grid_propagate(False)\n",
    "\n",
    "right_frame = customtkinter.CTkFrame(master= app, width= 650, height= 400, corner_radius=12)\n",
    "right_frame.grid(row=0, column=1, padx=10, pady=5)\n",
    "right_frame.grid_propagate(False)\n",
    "\n",
    "\n",
    "liked = customtkinter.CTkFrame(master= left_frame, width= 180, height= 180, corner_radius=12)\n",
    "disliked = customtkinter.CTkFrame(master= left_frame, width= 180, height= 180, corner_radius=12)\n",
    "liked.grid(row=0, column=0, padx=5, pady=5)\n",
    "disliked.grid(row=1, column=0, padx=5, pady=5)\n",
    "\n",
    "Label(liked, text=\"Liked songs:\").grid(row=0, column=0, padx=5, pady=5)\n",
    "Label(disliked, text=\"Disliked songs:\").grid(row=0, column=0, padx=5, pady=5)\n",
    "\n",
    "\n",
    "Label(right_frame, text=\"Enter liked songs:\").grid(row=0, column=0)\n",
    "liked_entry = customtkinter.CTkEntry(right_frame, placeholder_text=\"Input your liked songs (include artists after comma): \", width= 600)\n",
    "liked_entry.grid(row=1, column=0, columnspan=2, padx=(20, 0), pady=(20, 20), sticky=\"nsew\")\n",
    "\n",
    "Label(right_frame, text=\"Enter disliked songs:\").grid(row=2, column=0)\n",
    "disliked_entry = customtkinter.CTkEntry(right_frame, placeholder_text=\"Input your hated songs (include artists after comma): \", width= 600)\n",
    "disliked_entry.grid(row=3, column=0, columnspan=2, padx=(20, 0), pady=(20, 20), sticky=\"nsew\")\n",
    "\n",
    "song_button = customtkinter.CTkButton(right_frame, text=\"Submit song\", command=submit_song)\n",
    "song_button.grid(row=4, column=0, columnspan=2, padx=(20, 0), pady=(20, 20), sticky=\"nsew\")\n",
    "\n",
    "Label(right_frame, text=\"Recommendation:\").grid(row=5, column=0)\n",
    "\n",
    "liked_list = []\n",
    "disliked_list = []\n",
    "returned_list = []\n",
    "       \n",
    "def get_everything_together(songs_dict):\n",
    "    if songs_dict is None:#if it is a premade\n",
    "        songs_dict = get_user_input()\n",
    "    \n",
    "    findEmbedding(dictionary=songs_dict,name=\"test\")\n",
    "    t_model = few_shot_train()\n",
    "    recc = search_songs(t_model)\n",
    "    Label(liked, text=recc).grid(row=6, column=0, padx=5, pady=5)\n",
    "\n",
    "    \n",
    "app.mainloop()   "
   ]
  },
  {
   "cell_type": "code",
   "execution_count": null,
   "id": "b485ef958623bde8",
   "metadata": {
    "ExecuteTime": {
     "end_time": "2024-05-08T09:19:27.233616Z",
     "start_time": "2024-05-08T09:19:27.214384Z"
    },
    "collapsed": false
   },
   "outputs": [],
   "source": [
    "from sentence_transformers import  SentenceTransformer\n",
    "import os\n",
    "class findEmbedding:\n",
    "    def __init__(self,dictionary,name) -> None:\n",
    "        self.model = SentenceTransformer('all-MiniLM-L6-v2')\n",
    "        embeddings = self.computeEmbeddings(dictionary)\n",
    "\n",
    "        PATH = os.path.join(f\"{name}.npy\")\n",
    "        with open( PATH, \"wb\") as fp:\n",
    "            np.save(fp, embeddings)\n",
    "\n",
    "    def computeEmbeddings(self,dictionary):\n",
    "        embeddings = []\n",
    "\n",
    "\n",
    "        \n",
    "        for song in dictionary:\n",
    "            sentence = list(song.keys())\n",
    "            sentence = song[sentence[0]]\n",
    "            \n",
    "            embeddings.append(self.model.encode(sentence))\n",
    "\n",
    "                # Increment the file counter\n",
    "                \n",
    "        return np.array(embeddings)"
   ]
  },
  {
   "cell_type": "code",
   "execution_count": null,
   "id": "6695c9da76143565",
   "metadata": {
    "ExecuteTime": {
     "end_time": "2024-05-08T09:20:19.929356Z",
     "start_time": "2024-05-08T09:20:19.193554Z"
    },
    "collapsed": false
   },
   "outputs": [
    {
     "data": {
      "text/plain": [
       "<__main__.findEmbedding at 0x2b26e0ac0>"
      ]
     },
     "execution_count": 48,
     "metadata": {},
     "output_type": "execute_result"
    }
   ],
   "source": [
    "findEmbedding(returned_list,\"test\")\n"
   ]
  },
  {
   "cell_type": "code",
   "execution_count": null,
   "id": "ae96c1dd1b9f696c",
   "metadata": {
    "ExecuteTime": {
     "end_time": "2024-05-08T09:32:37.390311Z",
     "start_time": "2024-05-08T09:32:37.373514Z"
    },
    "collapsed": false
   },
   "outputs": [],
   "source": [
    "from torch import optim\n",
    "def few_shot_train():\n",
    "    embeddings_few_shot = np.load(\"test.npy\")\n",
    "    print(embeddings_few_shot.shape)\n",
    "    label_few_shot = [1,1,1,1,1,0,0,0,0,0]\n",
    "    ones_column = torch.ones((1, 1))  # Create a column of ones\n",
    "    # Create a dataset for user feedback\n",
    "    dataset = [(embedding, label) for embedding, label in zip(embeddings_few_shot, label_few_shot)]\n",
    "    # Fine-tune the pre-trained model on user feedback\n",
    "    fine_tune_loader = DataLoader(dataset, batch_size=32, shuffle=True)\n",
    "    fine_tune_epochs = 100  # Adjust the number of fine-tuning epochs as needed\n",
    "    optimizer = optim.Adam(best_model.parameters(), lr=1)\n",
    "    for epoch in range(fine_tune_epochs):\n",
    "        for data, target in fine_tune_loader:\n",
    "            optimizer.zero_grad()\n",
    "            data = torch.tensor(data,dtype=torch.float32)\n",
    "            embeddings_with_ones = torch.cat((data, ones_column), dim=1)\n",
    "            target = torch.tensor(target,dtype=torch.float32)\n",
    "            output = model(embeddings_with_ones)\n",
    "            output = output.squeeze(1)\n",
    "            loss = loss_func(output, target)\n",
    "            loss.backward()\n",
    "            optimizer.step()\n",
    "    return model\n",
    "    \n",
    "\n",
    "# Evaluate the fine-tuned model\n",
    "# test_loss, test_accuracy = testing(model, loss_func, test_loader)"
   ]
  },
  {
   "cell_type": "code",
   "execution_count": null,
   "id": "e7031b59b8465ae4",
   "metadata": {
    "ExecuteTime": {
     "end_time": "2024-05-08T07:38:19.971756Z",
     "start_time": "2024-05-08T07:38:18.473812Z"
    },
    "collapsed": false
   },
   "outputs": [
    {
     "ename": "NameError",
     "evalue": "name 'get_lyrics' is not defined",
     "output_type": "error",
     "traceback": [
      "\u001b[0;31m---------------------------------------------------------------------------\u001b[0m",
      "\u001b[0;31mNameError\u001b[0m                                 Traceback (most recent call last)",
      "Cell \u001b[0;32mIn[6], line 3\u001b[0m\n\u001b[1;32m      1\u001b[0m test \u001b[38;5;241m=\u001b[39m {}\n\u001b[0;32m----> 3\u001b[0m test[\u001b[38;5;124m\"\u001b[39m\u001b[38;5;124mI wanna be yours\u001b[39m\u001b[38;5;124m\"\u001b[39m] \u001b[38;5;241m=\u001b[39m \u001b[43mget_lyrics\u001b[49m(\u001b[38;5;124m\"\u001b[39m\u001b[38;5;124mSwim\u001b[39m\u001b[38;5;124m\"\u001b[39m,\u001b[38;5;124m\"\u001b[39m\u001b[38;5;124mChase Atlantic\u001b[39m\u001b[38;5;124m\"\u001b[39m)\n\u001b[1;32m      4\u001b[0m findEmbedding(dictionary\u001b[38;5;241m=\u001b[39mtest,name\u001b[38;5;241m=\u001b[39m\u001b[38;5;124m\"\u001b[39m\u001b[38;5;124mtest\u001b[39m\u001b[38;5;124m\"\u001b[39m)\n",
      "\u001b[0;31mNameError\u001b[0m: name 'get_lyrics' is not defined"
     ]
    }
   ],
   "source": [
    "test = {}\n",
    "\n",
    "test[\"I wanna be yours\"] = get_lyrics(\"Swim\",\"Chase Atlantic\")\n",
    "findEmbedding(dictionary=test,name=\"test\")"
   ]
  },
  {
   "cell_type": "code",
   "execution_count": null,
   "id": "c5cf54965af8b564",
   "metadata": {
    "ExecuteTime": {
     "end_time": "2024-05-08T16:59:09.449765Z",
     "start_time": "2024-05-08T16:59:09.446081Z"
    },
    "collapsed": false
   },
   "outputs": [],
   "source": [
    "import random\n",
    "random.randint(1,54)\n",
    "def search_songs(input_model):\n",
    "    songs_found = {}\n",
    "    r = random.randint(0,54)\n",
    "    for filename in os.listdir(\"results\"):\n",
    "        \n",
    "        with open(f\"results/user_{r}_songs.json\", 'r', encoding='utf-8', newline='') as file:\n",
    "            data = json.load(file)\n",
    "            for obj in data:\n",
    "               song_title = obj[\"Title\"]\n",
    "               song_artist = obj[\"Artist\"]\n",
    "               \n",
    "               dict_found = get_lyrics(song_title,song_artist)\n",
    "               if dict_found == \"No lyrics found\":\n",
    "                   continue\n",
    "                \n",
    "               dict_found =[dict_found]\n",
    "               findEmbedding(dictionary=dict_found,name=\"test\")\n",
    "               embeddings = np.load(\"test.npy\")\n",
    "               embeddings = torch.tensor(embeddings)\n",
    "               ones_column = torch.ones((1, 1))\n",
    "               test_embeddings = torch.cat((embeddings, ones_column), dim=1)\n",
    "\n",
    "\n",
    "               score = input_model(test_embeddings)\n",
    "               score = score.item()\n",
    "\n",
    "               if score>0.48:\n",
    "                   l= dict_found[0]\n",
    "                   return list(l.keys())[0]\n",
    "                   \n",
    "            else:\n",
    "                continue\n",
    "    return songs_found"
   ]
  },
  {
   "cell_type": "code",
   "execution_count": null,
   "id": "e2e866efd24c44b",
   "metadata": {
    "ExecuteTime": {
     "end_time": "2024-05-08T08:42:26.598169Z",
     "start_time": "2024-05-08T08:42:26.344037Z"
    },
    "collapsed": false
   },
   "outputs": [],
   "source": [
    "import os\n",
    "import faiss\n",
    "import pandas as pd\n",
    "from sentence_transformers import SentenceTransformer\n",
    "from pprint import pprint\n",
    "class recmmSystem:\n",
    "    def __init__(self) -> None:\n",
    "        self.model = SentenceTransformer('all-MiniLM-L6-v2')\n",
    "        self.df = pd.read_csv(\"spotify_millsongdata.csv\")\n",
    "        PATH = os.path.join(\"embedding_lyrics_total.npy\")\n",
    "        embeddings = np.load(PATH)\n",
    "        dimension = embeddings.shape[1]\n",
    "        quantize = faiss.IndexFlatL2(dimension)\n",
    "        self.index = faiss.IndexIVFFlat(quantize, dimension, 50)\n",
    "\n",
    "        if not self.index.is_trained:\n",
    "            self.index.train(embeddings)\n",
    "        \n",
    "        if self.index.is_trained:\n",
    "            # let's add this \n",
    "            self.index.add(embeddings)\n",
    "\n",
    "        print(\"Total Number of embeddings index {}\".format(self.index.ntotal))\n",
    "    \n",
    "    def nearestNeighbour(self, query, k):\n",
    "        # we can now search \n",
    "        queryEmbeddings = self.model.encode([query])\n",
    "        D, I = self.index.search(queryEmbeddings, k)\n",
    "        # let's get the index result \n",
    "        artist_songs = dict()\n",
    "        allRelatable = self.df.iloc[I[0]]\n",
    "        for index, rows in allRelatable.iterrows():\n",
    "            artist_songs[rows[\"artist\"]] = rows[\"song\"]\n",
    "        \n",
    "        print(\"Query: \", query)\n",
    "        pprint(artist_songs)\n"
   ]
  },
  {
   "cell_type": "code",
   "execution_count": null,
   "id": "350d35c3ddf15e2a",
   "metadata": {
    "ExecuteTime": {
     "start_time": "2024-05-08T08:42:27.259085Z"
    },
    "collapsed": false
   },
   "outputs": [
    {
     "ename": "NameError",
     "evalue": "name 'recmmSystem' is not defined",
     "output_type": "error",
     "traceback": [
      "\u001b[0;31m---------------------------------------------------------------------------\u001b[0m",
      "\u001b[0;31mNameError\u001b[0m                                 Traceback (most recent call last)",
      "Cell \u001b[0;32mIn[4], line 1\u001b[0m\n\u001b[0;32m----> 1\u001b[0m system \u001b[38;5;241m=\u001b[39m \u001b[43mrecmmSystem\u001b[49m()\n\u001b[1;32m      2\u001b[0m system\u001b[38;5;241m.\u001b[39mnearestNeighbour(\u001b[38;5;28mlist\u001b[39m(songs_dict\u001b[38;5;241m.\u001b[39mkeys())[\u001b[38;5;241m0\u001b[39m])\n",
      "\u001b[0;31mNameError\u001b[0m: name 'recmmSystem' is not defined"
     ]
    }
   ],
   "source": [
    "system = recmmSystem()\n",
    "system.nearestNeighbour(list(songs_dict.keys())[0])"
   ]
  },
  {
   "cell_type": "raw",
   "id": "1aa941e15fe3d44a",
   "metadata": {
    "collapsed": false
   },
   "source": [
    "Make subset constrcution kinda"
   ]
  },
  {
   "cell_type": "markdown",
   "id": "861d09fe29e0205f",
   "metadata": {
    "collapsed": false
   },
   "source": [
    "EVERYTHING TOGETHER"
   ]
  },
  {
   "cell_type": "code",
   "execution_count": 2,
   "id": "3708cc96c87116d4",
   "metadata": {
    "collapsed": false,
    "is_executing": true
   },
   "outputs": [
    {
     "ename": "NameError",
     "evalue": "name 'get_user_input' is not defined",
     "output_type": "error",
     "traceback": [
      "\u001b[0;31m---------------------------------------------------------------------------\u001b[0m",
      "\u001b[0;31mNameError\u001b[0m                                 Traceback (most recent call last)",
      "Cell \u001b[0;32mIn[2], line 16\u001b[0m\n\u001b[1;32m     12\u001b[0m         \u001b[38;5;28mprint\u001b[39m(\u001b[38;5;124mf\u001b[39m\u001b[38;5;124m\"\u001b[39m\u001b[38;5;130;01m\\n\u001b[39;00m\u001b[38;5;132;01m{\u001b[39;00m\u001b[38;5;28mlist\u001b[39m(i\u001b[38;5;241m.\u001b[39mkeys())[\u001b[38;5;241m0\u001b[39m]\u001b[38;5;132;01m}\u001b[39;00m\u001b[38;5;124m\"\u001b[39m)\n\u001b[1;32m     13\u001b[0m     \u001b[38;5;28mprint\u001b[39m(\u001b[38;5;124m\"\u001b[39m\u001b[38;5;124mSong that you need to listen next is\u001b[39m\u001b[38;5;124m\"\u001b[39m,search_songs(t_model))\n\u001b[0;32m---> 16\u001b[0m \u001b[43meverything_together\u001b[49m\u001b[43m(\u001b[49m\u001b[38;5;28;43;01mNone\u001b[39;49;00m\u001b[43m)\u001b[49m\n",
      "Cell \u001b[0;32mIn[2], line 3\u001b[0m, in \u001b[0;36meverything_together\u001b[0;34m(songs_dict)\u001b[0m\n\u001b[1;32m      1\u001b[0m \u001b[38;5;28;01mdef\u001b[39;00m \u001b[38;5;21meverything_together\u001b[39m(songs_dict):\n\u001b[1;32m      2\u001b[0m     \u001b[38;5;28;01mif\u001b[39;00m songs_dict \u001b[38;5;129;01mis\u001b[39;00m \u001b[38;5;28;01mNone\u001b[39;00m:\u001b[38;5;66;03m#if it is a premade\u001b[39;00m\n\u001b[0;32m----> 3\u001b[0m         songs_dict \u001b[38;5;241m=\u001b[39m \u001b[43mget_user_input\u001b[49m()\n\u001b[1;32m      5\u001b[0m     findEmbedding(dictionary\u001b[38;5;241m=\u001b[39msongs_dict,name\u001b[38;5;241m=\u001b[39m\u001b[38;5;124m\"\u001b[39m\u001b[38;5;124mtest\u001b[39m\u001b[38;5;124m\"\u001b[39m)\n\u001b[1;32m      6\u001b[0m     t_model \u001b[38;5;241m=\u001b[39m few_shot_train()\n",
      "\u001b[0;31mNameError\u001b[0m: name 'get_user_input' is not defined"
     ]
    }
   ],
   "source": [
    "def everything_together(songs_dict):\n",
    "    if songs_dict is None:#if it is a premade\n",
    "        songs_dict = get_user_input()\n",
    "    \n",
    "    findEmbedding(dictionary=songs_dict,name=\"test\")\n",
    "    t_model = few_shot_train()\n",
    "    print(\"5 SONGS I LIKE\")\n",
    "    for i in returned_list[:5]:\n",
    "         print(f\"\\n{list(i.keys())[0]}\")\n",
    "    print(\"5 SONGS I DO NOT LIKE\")\n",
    "    for i in returned_list[5:]:\n",
    "        print(f\"\\n{list(i.keys())[0]}\")\n",
    "    print(\"Song that you need to listen next is\",search_songs(t_model))\n",
    "\n",
    "    \n",
    "everything_together(None)\n",
    "    "
   ]
  },
  {
   "cell_type": "code",
   "execution_count": 73,
   "id": "a1f18038",
   "metadata": {},
   "outputs": [],
   "source": [
    "import tkinter as tk\n",
    "\n",
    "\n",
    "song_arr = []\n",
    "\n",
    "shown = False\n",
    "\n",
    "def song_list():\n",
    "    if shown:\n",
    "        shown = True\n",
    "    else:\n",
    "        shown = False\n",
    "    \n",
    "    if shown:\n",
    "        song_list.config(text=f\"{song_arr}!\")\n",
    "    else:\n",
    "        song_list.config(text=\"\")\n",
    "\n",
    "\n",
    "def submit_song():\n",
    "    song = entry.get()\n",
    "    if song in song_arr:\n",
    "        songs_2.config(text=f\"{song} is already in list!\")\n",
    "    else:\n",
    "        song_arr.append(song)\n",
    "    if song:\n",
    "        song_list.config(text=f\"{song_arr}!\")\n",
    "    else:\n",
    "       song_list.config(text=\"Input some songs\")\n",
    "\n",
    "\n",
    "root = tk.Tk()\n",
    "root.title(\"Spotify Song Recommender\")\n",
    "\n",
    "\n",
    "entry = tk.Entry(root, width=30)\n",
    "entry.pack(pady=10)\n",
    "\n",
    "song_button = tk.Button(root, text=\"Submit song\", command=submit_song)\n",
    "song_button.pack()\n",
    "\n",
    "list_button = tk.Button(root, text=\"Show song list\", command=song_list)\n",
    "list_button.pack()\n",
    "\n",
    "song_list = tk.Label(root, text=\"\")\n",
    "\n",
    "songs = tk.Label(root, text=\"Songs:\")\n",
    "songs_2 = tk.Label(root, text=\"\")\n",
    "song_list = tk.Label(root, text=\"\")\n",
    "\n",
    "songs.pack()\n",
    "songs_2.pack()\n",
    "song_list.pack(pady=10)\n",
    "\n",
    "\n",
    "root.mainloop()"
   ]
  },
  {
   "cell_type": "code",
   "execution_count": null,
   "id": "c7722070",
   "metadata": {},
   "outputs": [
    {
     "name": "stdout",
     "output_type": "stream",
     "text": [
      "[[-0.06669568 -0.09863818  0.04980293 ... -0.00151163  0.05756469\n",
      "  -0.05387075]\n",
      " [-0.06669568 -0.09863818  0.04980293 ... -0.00151163  0.05756469\n",
      "  -0.05387075]\n",
      " [-0.06669568 -0.09863818  0.04980293 ... -0.00151163  0.05756469\n",
      "  -0.05387075]\n",
      " ...\n",
      " [-0.06669568 -0.09863818  0.04980293 ... -0.00151163  0.05756469\n",
      "  -0.05387075]\n",
      " [-0.06669568 -0.09863818  0.04980293 ... -0.00151163  0.05756469\n",
      "  -0.05387075]\n",
      " [-0.06669568 -0.09863818  0.04980293 ... -0.00151163  0.05756469\n",
      "  -0.05387075]]\n"
     ]
    }
   ],
   "source": [
    "\n",
    "\n",
    "print(embeddings)"
   ]
  }
 ],
 "metadata": {
  "kernelspec": {
   "display_name": "Python 3",
   "language": "python",
   "name": "python3"
  },
  "language_info": {
   "codemirror_mode": {
    "name": "ipython",
    "version": 3
   },
   "file_extension": ".py",
   "mimetype": "text/x-python",
   "name": "python",
   "nbconvert_exporter": "python",
   "pygments_lexer": "ipython3",
   "version": "3.10.0"
  }
 },
 "nbformat": 4,
 "nbformat_minor": 5
}
